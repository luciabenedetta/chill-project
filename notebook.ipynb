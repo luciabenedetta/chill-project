{
 "cells": [
  {
   "cell_type": "code",
   "execution_count": 3,
   "metadata": {},
   "outputs": [
    {
     "name": "stdout",
     "output_type": "stream",
     "text": [
      "ciao\n"
     ]
    }
   ],
   "source": [
    "a = \"ciao\"\n",
    "print(a)"
   ]
  },
  {
   "cell_type": "code",
   "execution_count": 4,
   "metadata": {},
   "outputs": [
    {
     "data": {
      "text/plain": [
       "str"
      ]
     },
     "execution_count": 4,
     "metadata": {},
     "output_type": "execute_result"
    }
   ],
   "source": [
    "type(a)"
   ]
  },
  {
   "cell_type": "code",
   "execution_count": 3,
   "metadata": {},
   "outputs": [
    {
     "name": "stdout",
     "output_type": "stream",
     "text": [
      "on Tom LONG wolk\n"
     ]
    }
   ],
   "source": [
    "# text in lower\n",
    "word_ON = \"ON\"\n",
    "# name capitalized \n",
    "name = \"tom\"\n",
    "# text in uppercase \n",
    "word_long = \"long\"\n",
    "# replace the a with the o \n",
    "word_walk = \"walk\"\n",
    "# print everithing in one single string \n",
    "text = (word_ON.lower() + \" \" + name.capitalize() + \" \" + word_long.upper() + \" \" + word_walk.replace(\"a\", \"o\"))\n",
    "\n",
    "print(text)\n",
    "\n",
    "separation = text.split()"
   ]
  },
  {
   "cell_type": "code",
   "execution_count": 6,
   "metadata": {},
   "outputs": [
    {
     "name": "stdout",
     "output_type": "stream",
     "text": [
      "Welcome James, your age is 25\n"
     ]
    }
   ],
   "source": [
    "name = \"James\" \n",
    "age = 25 \n",
    "\n",
    "hellomsg = f\"Welcome {name}, your age is {age}\" \n",
    "\n",
    "print(hellomsg)"
   ]
  },
  {
   "cell_type": "code",
   "execution_count": 16,
   "metadata": {},
   "outputs": [
    {
     "name": "stdout",
     "output_type": "stream",
     "text": [
      "Hello, my name is Champion Lucia, I am 28 and I come from Naples.\n",
      "Hello, my name is Champion Lucia, I am 28 and I come from Naples.\n",
      "Hello, my name is Champion Lucia, I am 28 and I come from Naples. I am 1.55 tall and I am a hero: True\n",
      "<class 'str'> <class 'str'> <class 'str'> <class 'float'> <class 'bool'>\n"
     ]
    }
   ],
   "source": [
    "name = \"Lucia\"\n",
    "\n",
    "age = \"28\" \n",
    "\n",
    "city = \"Naples\" \n",
    "\n",
    "me = (\"Hello, my name is \" + name + \", I am \" + age + \" and I come from \" + city + \".\")\n",
    "\n",
    "print(myself)\n",
    "\n",
    "name = \"Champion \" + name \n",
    "\n",
    "myself = (\"Hello, my name is \" + name + \", I am \" + age + \" and I come from \" + city + \".\")\n",
    "\n",
    "print(new_me)\n",
    "\n",
    "height = 1.55 \n",
    "\n",
    "is_hero = True \n",
    "\n",
    "and_I = (\"Hello, my name is \" + name + \", I am \" + age + \" and I come from \" + city + \". I am \" + str(height) + \" tall and I am a hero: \" + str(is_hero))\n",
    "\n",
    "print(and_I)\n",
    "\n",
    "print(type(name), type(age), type(city), type(height), type(is_hero))"
   ]
  },
  {
   "cell_type": "code",
   "execution_count": null,
   "metadata": {},
   "outputs": [],
   "source": [
    "# ask the user for their name, age and city of residence \n",
    "name = input(\"What is your name? \")\n",
    "age = input(\"How old are you? \")\n",
    "city_of_residence = input(\"Where do you live? \")\n",
    "\n",
    "# create a sentence for their profile\n",
    "profile_sentence = (\"Hello, my name is \" + name + \", I am \" + age + \" and I come from \" + city_of_residence + \".\")\n",
    "print(profile_sentence)\n",
    "\n",
    "# convert profile info in lower case \n",
    "profile_sentence_lower = profile_sentence.lower() \n",
    "\n",
    "# find the lenght of each string \n",
    "name_length = len(name)\n",
    "age_length = len(age)\n",
    "city_of_residence_length = len(city_of_residence)\n",
    "\n",
    "# ask for their first and last name separately and then combine them \n",
    "first_name = input(\"What is your first name? \")\n",
    "last_name = input(\"What is your last name? \")\n",
    "full_name = first_name + \" \" + last_name    \n",
    "print(full_name)\n",
    "\n",
    "#ask for their favourite programming language and construct a sentence \n",
    "fav_language = input(\"What is your favourite programming language? \")   \n",
    "fav_language_sentence = (name + \"'s favourite programming language is \" + fav_language + \".\")\n",
    "print(fav_language_sentence)\n",
    "\n",
    "# age verification \n",
    "current_year = int(input(\"What is the current year? \"))\n",
    "birth_year = int(input(\"What year were you born? \"))\n",
    "age = current_year - birth_year \n",
    "print(name + \"'s age is \" + str(age))\n",
    "\n",
    "# add a bio and print the number of characters\n",
    "bio = input(\"Write a short bio: \")\n",
    "bio_length = len(bio)\n",
    "print(\"Your bio has \" + str(bio_length) + \" characters.\") "
   ]
  },
  {
   "cell_type": "code",
   "execution_count": null,
   "metadata": {},
   "outputs": [],
   "source": []
  }
 ],
 "metadata": {
  "kernelspec": {
   "display_name": "Python 3",
   "language": "python",
   "name": "python3"
  },
  "language_info": {
   "codemirror_mode": {
    "name": "ipython",
    "version": 3
   },
   "file_extension": ".py",
   "mimetype": "text/x-python",
   "name": "python",
   "nbconvert_exporter": "python",
   "pygments_lexer": "ipython3",
   "version": "3.12.8"
  }
 },
 "nbformat": 4,
 "nbformat_minor": 2
}
