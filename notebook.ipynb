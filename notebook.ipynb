{
 "cells": [
  {
   "cell_type": "code",
   "execution_count": 3,
   "metadata": {},
   "outputs": [
    {
     "name": "stdout",
     "output_type": "stream",
     "text": [
      "ciao\n"
     ]
    }
   ],
   "source": [
    "a = \"ciao\"\n",
    "print(a)"
   ]
  },
  {
   "cell_type": "code",
   "execution_count": 4,
   "metadata": {},
   "outputs": [
    {
     "data": {
      "text/plain": [
       "str"
      ]
     },
     "execution_count": 4,
     "metadata": {},
     "output_type": "execute_result"
    }
   ],
   "source": [
    "type(a)"
   ]
  },
  {
   "cell_type": "code",
   "execution_count": 1,
   "metadata": {},
   "outputs": [
    {
     "name": "stdout",
     "output_type": "stream",
     "text": [
      "on Tom LONG wolk\n",
      "<class 'str'>\n"
     ]
    }
   ],
   "source": [
    "# text in lower\n",
    "word_ON = \"ON\"\n",
    "\n",
    "# name capitalized \n",
    "name = \"tom\"\n",
    "\n",
    "# text in uppercase \n",
    "word_long = \"long\"\n",
    "\n",
    "# replace the a with the o \n",
    "word_walk = \"walk\"\n",
    "\n",
    "# print everithing in one single string \n",
    "text = (word_ON.lower() + \" \" + name.capitalize() + \" \" + word_long.upper() + \" \" + word_walk.replace(\"a\", \"o\"))\n",
    "\n",
    "print(text)\n",
    "\n",
    "separation = text.split()\n",
    "\n",
    "print(type(text))"
   ]
  },
  {
   "cell_type": "code",
   "execution_count": 3,
   "metadata": {},
   "outputs": [
    {
     "name": "stdout",
     "output_type": "stream",
     "text": [
      "Welcome James, your age is 25\n"
     ]
    }
   ],
   "source": [
    "name = \"James\" \n",
    "age = 25 \n",
    "\n",
    "hellomsg = f\"Welcome {name}, your age is {age}\" \n",
    "\n",
    "print(hellomsg)"
   ]
  },
  {
   "cell_type": "code",
   "execution_count": 4,
   "metadata": {},
   "outputs": [
    {
     "name": "stdout",
     "output_type": "stream",
     "text": [
      "Hello, my name is Lucia, I am 28 and I come from Naples.\n",
      "Hello, my name is Champion Lucia, I am 28 and I come from Naples.\n",
      "Hello, my name is Champion Lucia, I am 28 and I come from Naples. I am 1.55 tall and I am a hero: True\n",
      "<class 'str'> <class 'str'> <class 'str'> <class 'float'> <class 'bool'>\n"
     ]
    }
   ],
   "source": [
    "name = \"Lucia\"\n",
    "\n",
    "age = \"28\" \n",
    "\n",
    "city = \"Naples\" \n",
    "\n",
    "me = (\"Hello, my name is \" + name + \", I am \" + age + \" and I come from \" + city + \".\")\n",
    "\n",
    "print(me)\n",
    "\n",
    "name = \"Champion \" + name \n",
    "\n",
    "myself = (\"Hello, my name is \" + name + \", I am \" + age + \" and I come from \" + city + \".\")\n",
    "\n",
    "print(myself)\n",
    "\n",
    "height = 1.55 \n",
    "\n",
    "is_hero = True \n",
    "\n",
    "and_I = (\"Hello, my name is \" + name + \", I am \" + age + \" and I come from \" + city + \". I am \" + str(height) + \" tall and I am a hero: \" + str(is_hero))\n",
    "\n",
    "print(and_I)\n",
    "\n",
    "print(type(name), type(age), type(city), type(height), type(is_hero))"
   ]
  },
  {
   "cell_type": "code",
   "execution_count": 7,
   "metadata": {},
   "outputs": [
    {
     "name": "stdout",
     "output_type": "stream",
     "text": [
      "Hello, my name is Lucia Benedetta, I am 28 and I come from Naples.\n",
      "Lucia Benedetta Mattiello\n",
      "Lucia Benedetta's favourite programming language is Python.\n",
      "Lucia Benedetta's age is 29\n",
      "Your bio has 28 characters.\n"
     ]
    }
   ],
   "source": [
    "# ask the user for their name, age and city of residence \n",
    "name = input(\"What is your name? \")\n",
    "age = input(\"How old are you? \")\n",
    "city_of_residence = input(\"Where do you live? \")\n",
    "\n",
    "# create a sentence for their profile\n",
    "profile_sentence = (\"Hello, my name is \" + name + \", I am \" + age + \" and I come from \" + city_of_residence + \".\")\n",
    "print(profile_sentence)\n",
    "\n",
    "# convert profile info in lower case \n",
    "profile_sentence_lower = profile_sentence.lower() \n",
    "\n",
    "# find the lenght of each string \n",
    "name_length = len(name)\n",
    "age_length = len(age)\n",
    "city_of_residence_length = len(city_of_residence)\n",
    "\n",
    "# ask for their first and last name separately and then combine them \n",
    "first_name = input(\"What is your first name? \")\n",
    "last_name = input(\"What is your last name? \")\n",
    "full_name = first_name + \" \" + last_name    \n",
    "print(full_name)\n",
    "\n",
    "#ask for their favourite programming language and construct a sentence \n",
    "fav_language = input(\"What is your favourite programming language? \")   \n",
    "fav_language_sentence = (name + \"'s favourite programming language is \" + fav_language + \".\")\n",
    "print(fav_language_sentence)\n",
    "\n",
    "# age verification \n",
    "current_year = int(input(\"What is the current year? \"))\n",
    "birth_year = int(input(\"What year were you born? \"))\n",
    "age = current_year - birth_year\n",
    "print(name + \"'s age is \" + str(age))\n",
    "\n",
    "# add a bio and print the number of characters\n",
    "bio = input(\"Write a short bio: \")\n",
    "bio_length = len(bio)\n",
    "print(\"Your bio has \" + str(bio_length) + \" characters.\") "
   ]
  },
  {
   "cell_type": "code",
   "execution_count": 11,
   "metadata": {},
   "outputs": [
    {
     "name": "stdout",
     "output_type": "stream",
     "text": [
      "Hello L nice to meet you! a\n",
      "False\n",
      "I'm happy that you're feeling happy!\n",
      "I\n",
      "am\n",
      "writing\n",
      "code\n",
      "in\n",
      "python\n"
     ]
    }
   ],
   "source": [
    "# say hello using the user's first letter of the name and end the sentence with the last letter \n",
    "name = \"Lucia\"\n",
    "print(\"Hello \" + name[0] + \" nice to meet you! \" + name[-1])\n",
    "\n",
    "# check if there is any digit in the name\n",
    "check = name.isdigit()\n",
    "print(check)\n",
    "\n",
    "# ask how are they feeling and replace sad with happy \n",
    "feels = input(\"How are you feeling today? \")\n",
    "feels_replaced = feels.replace(\"sad\", \"happy\")\n",
    "print(\"I'm happy that you're feeling \" + feels_replaced + \"!\")\n",
    "\n",
    "# breakdown sentence into separate words into new lines \n",
    "sentence = input(\"Write something about you: \")\n",
    "words = sentence.split() \n",
    "for word in words:\n",
    "print(word)"
   ]
  },
  {
   "cell_type": "code",
   "execution_count": 4,
   "metadata": {},
   "outputs": [
    {
     "name": "stdout",
     "output_type": "stream",
     "text": [
      "Your username is: La\n",
      "Your unique code is uci\n",
      "Hi Lucia, welcome to the club!\n",
      "5\n"
     ]
    }
   ],
   "source": [
    "name = \"Lucia\"\n",
    "\n",
    "# create unique username using the first and last letter of the name\n",
    "username = name[0] + name[-1]\n",
    "print(\"Your username is: \" + username)\n",
    "\n",
    "# create a unique code using the middle 3 characters of the name \n",
    "code = name[1:4] #in questo caso nell'indicizzazione python include quello di sx ma esclude quello di dx\n",
    "print(\"Your unique code is \" + code)\n",
    "\n",
    "# create a greeting personalized message concatenating the name to create a new string \n",
    "greeting = \"Hi \" + name + \", welcome to the club!\"\n",
    "print(greeting) \n",
    "\n",
    "# use the len function to find the length of the name\n",
    "name_length = len(name)\n",
    "print(name_length)\n"
   ]
  },
  {
   "cell_type": "code",
   "execution_count": 6,
   "metadata": {},
   "outputs": [
    {
     "name": "stdout",
     "output_type": "stream",
     "text": [
      "The sky is blue\n",
      "sky\n",
      "SKY\n",
      "Today's highlighted word is: SKY\n"
     ]
    }
   ],
   "source": [
    "quote = \"The sky is blue\"\n",
    "print(quote)\n",
    "\n",
    "# use str slicing to extract the word \"sky\" from the quote\n",
    "word = quote[4:7]\n",
    "print(word) \n",
    "\n",
    "# uppercase the word\n",
    "word_upper = word.upper()\n",
    "print(word_upper)\n",
    "\n",
    "# Prepare a sentence that says \"Today's highlighted word is: {}\" and insert your uppercased word into the template.\n",
    "sentence = \"Today's highlighted word is: \" + word_upper \n",
    "print(sentence)"
   ]
  },
  {
   "cell_type": "code",
   "execution_count": 7,
   "metadata": {},
   "outputs": [],
   "source": [
    "# la funzione def serve a definire una funzione e a \"ricordarla\" nel tempo di modo che possa essere richiamata in qualsiasi momento\n",
    "def print_last_letter_of(string):\n",
    "    last_letter = string[-1]\n",
    "    print(last_letter)"
   ]
  },
  {
   "cell_type": "code",
   "execution_count": 8,
   "metadata": {},
   "outputs": [
    {
     "name": "stdout",
     "output_type": "stream",
     "text": [
      "i\n"
     ]
    }
   ],
   "source": [
    "print_last_letter_of(string = \"come vuoi\")"
   ]
  },
  {
   "cell_type": "code",
   "execution_count": null,
   "metadata": {},
   "outputs": [],
   "source": [
    "# in questo def si può anche specificare l'indice della lettera che si vuole stampare\n",
    "def print_a_letter_of(string, index):\n",
    "    letter = string[index] \n",
    "    print(letter)"
   ]
  },
  {
   "cell_type": "code",
   "execution_count": 11,
   "metadata": {},
   "outputs": [
    {
     "name": "stdout",
     "output_type": "stream",
     "text": [
      "c\n"
     ]
    }
   ],
   "source": [
    "print_a_letter_of(\"Lucia\", 2)"
   ]
  },
  {
   "cell_type": "code",
   "execution_count": 12,
   "metadata": {},
   "outputs": [],
   "source": [
    "def take_a_letter_of(string, index=-1):\n",
    "    letter = string[index]\n",
    "    return letter"
   ]
  },
  {
   "cell_type": "code",
   "execution_count": 2,
   "metadata": {},
   "outputs": [
    {
     "name": "stdout",
     "output_type": "stream",
     "text": [
      "1\n"
     ]
    }
   ],
   "source": [
    "apples = 5\n",
    "students = 2\n",
    "students_left = apples % students \n",
    "print(students_left)"
   ]
  },
  {
   "cell_type": "code",
   "execution_count": 3,
   "metadata": {},
   "outputs": [
    {
     "name": "stdout",
     "output_type": "stream",
     "text": [
      "True\n"
     ]
    }
   ],
   "source": [
    "name = \"Mario\"\n",
    "surname = \"Johnson\"\n",
    "print(not(name == \"Mario\" and surname == \"Smith\"))"
   ]
  },
  {
   "cell_type": "code",
   "execution_count": 4,
   "metadata": {},
   "outputs": [
    {
     "name": "stdout",
     "output_type": "stream",
     "text": [
      "Mario Rossi\n"
     ]
    }
   ],
   "source": [
    "# How should you define full_name to correctly concatenate the character's first name and last name into a single string?\n",
    "first_name = \"Mario\"\n",
    "last_name = \"Rossi\"\n",
    "full_name = first_name + \" \" + last_name\n",
    "print(full_name)"
   ]
  },
  {
   "cell_type": "code",
   "execution_count": 5,
   "metadata": {},
   "outputs": [
    {
     "name": "stdout",
     "output_type": "stream",
     "text": [
      "You are eligible to drive a car: True\n"
     ]
    }
   ],
   "source": [
    "# ask users for their age \n",
    "age = int(input(\"What is your age? \"))\n",
    "\n",
    "# ask users if they have a valid driving license y/n \n",
    "license = input(\"Do you have a valid driving license? (yes/no) \")\n",
    "\n",
    "# using logical operators and without using an \"if\" statement, dictionaries, or arrays, determine if the user is eligible to drive a car. Assume that the user needs to be at least 18 years old and must have a valid driving license to be eligible\n",
    "eligible = age >= 18 and license == \"yes\"\n",
    "\n",
    "#print the results  telling the user if they are eligible to drive a car\n",
    "print(\"You are eligible to drive a car: \" + str(eligible))"
   ]
  },
  {
   "cell_type": "code",
   "execution_count": 7,
   "metadata": {},
   "outputs": [
    {
     "name": "stdout",
     "output_type": "stream",
     "text": [
      "1347596\n"
     ]
    }
   ],
   "source": [
    "# ask the user to input an IPv4 address. For simplicity, consider the IP address as a single 8-bit number (so the user should input a number between 0 and 255)\n",
    "ip_address = int(input(\"Please enter an IPv4 address: \"))\n",
    "\n",
    "# ask the user to input a subnet mask. Again, for simplicity, consider the subnet mask as a single 8-bit number (a number between 0 and 255)\n",
    "subnet_mask = int(input(\"Please enter a subnet mask: \"))\n",
    "\n",
    "# using the binary AND operator, apply the subnet mask to the IP address\n",
    "network_address = ip_address & subnet_mask \n",
    "\n",
    "# print the result, which represents the network address\n",
    "print(network_address)\n"
   ]
  },
  {
   "cell_type": "code",
   "execution_count": 9,
   "metadata": {},
   "outputs": [
    {
     "name": "stdout",
     "output_type": "stream",
     "text": [
      "7\n",
      "5\n",
      "15\n",
      "4\n",
      "0\n"
     ]
    }
   ],
   "source": [
    "# you currently have a = 3 loaves of bread and b = 4 baguettes. Write a program that calculates and prints the total number of items in the bakery\n",
    "a = 3\n",
    "b = 4\n",
    "total = a + b \n",
    "print(total)\n",
    "\n",
    "# you're developing a game where a player starts with x = 7 lives but loses y = 2 lives after encountering a ghost. Write a program that calculates and prints the remaining lives after the encounter\n",
    "x = 7\n",
    "y = 2\n",
    "remaining_lives = x - y\n",
    "print(remaining_lives)\n",
    "\n",
    "# you're coding a program for a bookstore. Each book costs p = 5 dollars, and a customer wants to buy q = 3 books. Write a program that calculates and prints the total cost for the customer\n",
    "p = 5  \n",
    "q = 3\n",
    "total_cost = p * q\n",
    "print(total_cost)\n",
    "\n",
    "# you're building an app for a school. A class has m = 8 students, and they need to be divided into n = 2 equal teams for a competition. Write a program that calculates and prints the number of students in each team and the remainder, if any\n",
    "m = 8\n",
    "n = 2\n",
    "students_per_team = m // n\n",
    "remaining_students = m % n\n",
    "print(students_per_team)\n",
    "print(remaining_students)"
   ]
  },
  {
   "cell_type": "markdown",
   "metadata": {},
   "source": [
    "Abbiamo 25 frutti di cui 15 banane e 10 mele. Le banane costano 3euro ognuno e le mele 2euro. Abbiamo 12 clienti a cui vogliamo distribuire equamente la nostra frutta, quale sarà la spesa media dei nostri clienti? "
   ]
  },
  {
   "cell_type": "code",
   "execution_count": 26,
   "metadata": {},
   "outputs": [
    {
     "name": "stdout",
     "output_type": "stream",
     "text": [
      "5.42\n"
     ]
    }
   ],
   "source": [
    "banane = 15\n",
    "mele = 10 \n",
    "costo_banane = 3\n",
    "costo_mele = 2\n",
    "clienti = 12 \n",
    "spesa_media = round(((15 * 3 + 10 * 2) / 12), 2)\n",
    "print(spesa_media)"
   ]
  },
  {
   "cell_type": "code",
   "execution_count": 13,
   "metadata": {},
   "outputs": [
    {
     "name": "stdout",
     "output_type": "stream",
     "text": [
      "1\n",
      "1\n",
      "35\n",
      "79.6\n",
      "25\n",
      "5\n"
     ]
    }
   ],
   "source": [
    "# you're working on a ticketing system for a local theater. For one particular play, you've b = 4 adult tickets and a = 3 child tickets. Write a Python program to calculate and print the integer of dividing the number of adult tickets by the number of child tickets\n",
    "b = 4\n",
    "a = 3\n",
    "division = b // a\n",
    "print(division)\n",
    "\n",
    "# continuing from the previous scenario, now you're interested in how many adult tickets remain after forming as many \"family packages\" (each package contains 1 adult ticket and 1 child ticket) as possible. Write a Python program to calculate and print the remainder of dividing the number of adult tickets by the number of child tickets\n",
    "remaining_adult_tickets = b % a \n",
    "print(remaining_adult_tickets)\n",
    "\n",
    "# you're developing a math learning application. The user is currently practicing addition with the list of numbers [3, 5, 7, 9, 11]. Write a Python program to calculate and print the sum of all elements in the list\n",
    "numbers = [3, 5, 7, 9, 11]\n",
    "total_sum = sum(numbers)\n",
    "print(total_sum)\n",
    "\n",
    "# you're creating an online grade book for a teacher. The teacher has given the grades [83, 85, 72, 63, 95] for an assignment. Write a Python program to calculate and print the average grade\n",
    "grades = [83, 85, 72, 63, 95]\n",
    "average_grade = sum(grades) / len(grades)   \n",
    "print(average_grade)\n",
    "\n",
    "# you're working on an e-commerce application. The application displays a list of prices [5, 10, 15, 20, 25] for a product from various sellers. Write a Python program to calculate and print the highest and lowest price\n",
    "prices = [5, 10, 15, 20, 25]\n",
    "highest_price = max(prices)\n",
    "lowest_price = min(prices)\n",
    "print(highest_price)\n",
    "print(lowest_price)"
   ]
  },
  {
   "cell_type": "code",
   "execution_count": 15,
   "metadata": {},
   "outputs": [
    {
     "name": "stdout",
     "output_type": "stream",
     "text": [
      "11\n",
      "[1, 3, 5, 7, 9]\n",
      "[1, 3, 5]\n",
      "['apple', 'banana', 'cherry']\n"
     ]
    }
   ],
   "source": [
    "# you're developing a fun language game. As part of the game, you need to analyze sentences. Given the sentence = \"The quick brown fox jumps over the lazy dog.\", write a Python program to calculate and print the number of vowels in the sentence\n",
    "sentence = \"The quick brown fox jumps over the lazy dog.\"\n",
    "vowels = \"aeiou\"\n",
    "vowel_count = 0 \n",
    "for letter in sentence:\n",
    "    if letter.lower() in vowels:\n",
    "        vowel_count += 1\n",
    "print(vowel_count)\n",
    "\n",
    "# you're working on a number filtering system. You have a list of numbers = [1, 2, 3, 4, 5, 6, 7, 8, 9, 10]. Your task is to create and print a new list that contains only the odd numbers from the given list\n",
    "numbers = [1, 2, 3, 4, 5, 6, 7, 8, 9, 10]\n",
    "odd_numbers = []\n",
    "for number in numbers:\n",
    "    if number % 2 != 0:\n",
    "        odd_numbers.append(number)\n",
    "print(odd_numbers)\n",
    "\n",
    "# you are working on an inventory management system. In your system, you have a mixed list = [1, \"apple\", 3, \"banana\", 5, \"cherry\"]. Now you want to organize the data into separate lists for better management. Write a Python program to create and print two separate lists: one containing the numbers and the other containing the strings\n",
    "mixed_list = [1, \"apple\", 3, \"banana\", 5, \"cherry\"]\n",
    "numbers = []\n",
    "strings = []\n",
    "for item in mixed_list:\n",
    "    if type(item) == int:\n",
    "        numbers.append(item)\n",
    "    else:\n",
    "        strings.append(item)\n",
    "print(numbers)\n",
    "print(strings)"
   ]
  },
  {
   "cell_type": "code",
   "execution_count": 17,
   "metadata": {},
   "outputs": [
    {
     "name": "stdout",
     "output_type": "stream",
     "text": [
      "14.99\n",
      "14\n",
      "14\n"
     ]
    }
   ],
   "source": [
    "# create a variable price that represents the price of a product as a float\n",
    "price = 14.99\n",
    "\n",
    "# the business has decided to convert all their prices to integer values to simplify their billing process. Convert price to an integer value and store it in a new variable new_price\n",
    "new_price = int(price)\n",
    "\n",
    "# the business wants to create price tags for the products in their store. These price tags require the prices to be in string format. Convert new_price to a string and store it in a new variable price_tag\n",
    "price_tag = str(new_price)\n",
    "\n",
    "# print the original price and the result of each transformation to observe the changes in the data type\n",
    "print(price)\n",
    "print(new_price)\n",
    "print(price_tag)"
   ]
  },
  {
   "cell_type": "code",
   "execution_count": 18,
   "metadata": {},
   "outputs": [
    {
     "name": "stdout",
     "output_type": "stream",
     "text": [
      "99.9999\n",
      "100.0\n"
     ]
    }
   ],
   "source": [
    "# imagine you are a software engineer at a finance company and you are currently working on a feature for a currency conversion app. This app handles lots of floating point numbers which represent amounts of money. The app should display these amounts rounded to two decimal places for better readability. Start by creating a float variable amount_in_usd\n",
    "amount_in_usd = 99.9999\n",
    "\n",
    "# round the amount to two decimal places and store it in a new variable display_amount\n",
    "display_amount = round(amount_in_usd, 2)\n",
    "\n",
    "# to verify your work, you decide to print the original amount_in_usd and the rounded display_amount to the console\n",
    "print(amount_in_usd)\n",
    "print(display_amount)"
   ]
  },
  {
   "cell_type": "markdown",
   "metadata": {},
   "source": [
    "## Esercizi lunedì"
   ]
  },
  {
   "cell_type": "code",
   "execution_count": 1,
   "metadata": {},
   "outputs": [
    {
     "name": "stdout",
     "output_type": "stream",
     "text": [
      "Fail\n"
     ]
    }
   ],
   "source": [
    "# you're creating a software system for a school to grade students. The grading scale is as follows: 0-49: Fail; 50-59: Pass; 60-74: Good; 75-89: Very Good; 90-100: Excellent. A student named Tim just finished an exam and he is very anxious to know his result. Write a Python program that asks for Tim's score and tells him whether he failed, passed, or if he did well. The program should ask for input in this format: \"Please enter Tim's score: \"\n",
    "score = int(input(\"Please enter Tim's score: \")) \n",
    "if score >= 90:\n",
    "    print(\"Excellent\")\n",
    "elif score >= 75 and score <= 89:\n",
    "    print(\"Very Good\")\n",
    "elif score >= 60 and score <= 74:\n",
    "    print(\"Good\")\n",
    "elif score >= 50 and score <= 59:\n",
    "    print(\"Pass\")\n",
    "elif score >= 0 and score <= 49:\n",
    "    print(\"Fail\")"
   ]
  },
  {
   "cell_type": "code",
   "execution_count": 28,
   "metadata": {},
   "outputs": [
    {
     "name": "stdout",
     "output_type": "stream",
     "text": [
      "Data sets number1 and number2 are equal.\n"
     ]
    }
   ],
   "source": [
    "# ou're a data analyst and you have two data sets represented by the numbers number1 and number2. Your task is to write a Python program to compare these two data sets and print the appropriate comparison result: If number1 is greater than number2, print \"Data set number1 is larger than data set number2.\"; If number2 is greater than number1, print \"Data set number2 is larger than data set number1.\"; If number1 equals number2, print \"Data sets number1 and number2 are equal.\"\n",
    "number1= 66\n",
    "number2 = 66 \n",
    "\n",
    "if number1 > number2:\n",
    "    print(\"Data set number1 is larger than data set number2.\")\n",
    "elif number2 > number1:\n",
    "    print(\"Data set number2 is larger than data set number1.\")\n",
    "elif number1 == number2:\n",
    "    print(\"Data sets number1 and number2 are equal.\")"
   ]
  },
  {
   "cell_type": "code",
   "execution_count": 29,
   "metadata": {},
   "outputs": [
    {
     "name": "stdout",
     "output_type": "stream",
     "text": [
      "In the simulation, Player B scored more than Player A.\n"
     ]
    }
   ],
   "source": [
    "# Imagine you're a sports analyst who is doing a simulation to predict the performance of two basketball players in the next season: Use Python's random module to generate two random integers between 300 and 400, representing the projected scores for Player A and Player B. Store these in two variables, scoreA and scoreB; Write a Python program that compares the two scores; If Player A's score is higher, print \"In the simulation, Player A scored more than Player B.\"; If Player B's score is higher, print \"In the simulation, Player B scored more than Player A.\"; If both players have the same score, print \"In the simulation, Player A and Player B have the same score.\"\n",
    "import random \n",
    "scoreA = random.randint(300, 400)\n",
    "scoreB = random.randint(300, 400)\n",
    "if scoreA > scoreB:\n",
    "    print(\"In the simulation, Player A scored more than Player B.\")\n",
    "elif scoreB > scoreA:\n",
    "    print(\"In the simulation, Player B scored more than Player A.\")\n",
    "elif scoreA == scoreB:\n",
    "    print(\"In the simulation, Player A and Player B have the same score.\")"
   ]
  },
  {
   "cell_type": "code",
   "execution_count": 30,
   "metadata": {},
   "outputs": [
    {
     "name": "stdout",
     "output_type": "stream",
     "text": [
      "The value of your assets is greater than the absolute value of your debts.\n"
     ]
    }
   ],
   "source": [
    "# As a financial advisor, you need to compare your client's mix of assets (positive values) and debts (negative values). To do this, you'll store two financial values in variables: asset and debt. One value should be positive, and the other should be negative (e.g., asset = 5000 and debt = -3000); Write a Python program that compares the absolute values of these two numbers using the abs() function. Based on the comparison, provide appropriate feedback to your client: If the absolute value of asset is higher, print \"The value of your assets is greater than the absolute value of your debts.\" If the absolute value of debt is higher, print \"The absolute value of your debts is greater than the value of your assets.\" If the absolute values of both asset and debt are the same, print \"The value of your assets equals the absolute value of your debts.\"\n",
    "asset = 5000\n",
    "debt = -3000\n",
    "\n",
    "if abs(asset) > abs(debt):\n",
    "    print(\"The value of your assets is greater than the absolute value of your debts.\")\n",
    "elif abs(debt) > abs(asset):\n",
    "    print(\"The absolute value of your debts is greater than the value of your assets.\")\n",
    "elif abs(asset) == abs(debt):\n",
    "    print(\"The value of your assets equals the absolute value of your debts.\")\n"
   ]
  },
  {
   "cell_type": "code",
   "execution_count": 33,
   "metadata": {},
   "outputs": [
    {
     "name": "stdout",
     "output_type": "stream",
     "text": [
      "You are an adult.\n",
      "Welcome, Lucia from Naples!\n",
      "Password is valid.\n",
      "This is a deposit.\n"
     ]
    }
   ],
   "source": [
    "# write a Python program that takes input from the user for their age and then determines whether they are a teenager or an adult. If the age is between 13 and 19 (inclusive), print \"You are a teenager.\" Otherwise, print \"You are an adult.\"\n",
    "age = int(input(\"Please enter your age: \"))\n",
    "if age >= 13 and age <= 19:\n",
    "    print(\"You are a teenager.\")\n",
    "else: \n",
    "    print(\"You are an adult.\")\n",
    "\n",
    "\n",
    "# Create a welcome page for a website that greets users based on their name and city. First get user's name and city using a prompt. Then, show a personalized welcome message like \"Welcome, [name] from [city]!\" using the provided name and city inputs.\n",
    "name = input(\"What is your name? \")\n",
    "city = input(\"Where are you from? \")\n",
    "print(\"Welcome, \" + name + \" from \" + city + \"!\")\n",
    "\n",
    "# imagine you are designing a password creation form. You need to ensure that passwords meet a minimum length requirement. Check if the password length is at least 8 characters.(Use len function)\n",
    "password = input(\"Please enter your password: \")\n",
    "if len(password) >= 8:\n",
    "    print(\"Password is valid.\")\n",
    "else:\n",
    "    print(\"Password is too short.\")\n",
    "\n",
    "# you are developing a financial software program that categorizes transactions. Write a Python program to differentiate between deposits (positive amounts), withdrawals (negative amounts), and no transactions (zero amounts). Prompt the user to enter the transaction amount. If the amount is positive, print \"This is a deposit.\" If the amount is negative, print \"This is a withdrawal.\" If the amount is zero, print \"No transaction.\"\n",
    "amount = float(input(\"Please enter the transaction amount: \"))\n",
    "if amount > 0:\n",
    "    print(\"This is a deposit.\")\n",
    "elif amount < 0:\n",
    "    print(\"This is a withdrawal.\")\n",
    "else:\n",
    "    print(\"No transaction.\")"
   ]
  },
  {
   "cell_type": "code",
   "execution_count": null,
   "metadata": {},
   "outputs": [
    {
     "name": "stdout",
     "output_type": "stream",
     "text": [
      "The second mountain is higher.\n",
      "The total bill amount is odd.\n",
      "Leap year.\n"
     ]
    }
   ],
   "source": [
    "# imagine you're developing an app for mountain climbers. The users will input the heights of two mountains, and your program will indicate which one is higher. If both are equal print equal.\n",
    "mountain1 = float(input(\"Please enter the height of the first mountain: \"))\n",
    "mountain2 = float(input(\"Please enter the height of the second mountain: \"))\n",
    "if mountain1 > mountain2:\n",
    "    print(\"The first mountain is higher.\")\n",
    "elif mountain2 > mountain1:\n",
    "    print(\"The second mountain is higher.\")\n",
    "else:\n",
    "    print(\"Both mountains are equal.\")\n",
    "\n",
    "# imagine you're a diligent cashier at a grocery store, and your task is to find out if the total bill amount from three different customers is an even or an odd number. As the customers come to your counter, you quickly calculate the sum of their purchases. With the magical power of Python, you have a special program that reveals whether the total bill amount is an even or an odd number. This helps you ensure smooth transactions and provide a delightful shopping experience to your customers.\n",
    "customer1 = float(input(\"Please enter the total bill amount for customer 1: \"))\n",
    "customer2 = float(input(\"Please enter the total bill amount for customer 2: \"))\n",
    "customer3 = float(input(\"Please enter the total bill amount for customer 3: \"))\n",
    "total_bill = customer1 + customer2 + customer3\n",
    "if total_bill % 2 == 0:\n",
    "    print(\"The total bill amount is even.\")\n",
    "else:\n",
    "    print(\"The total bill amount is odd.\")\n",
    "\n",
    "# you are a calendar enthusiast, and your mission is to determine whether a given year is a leap year or not. Write a python program that shows if a year is leap or not.\n",
    "year = int(input(\"Please enter a year: \"))\n",
    "if year % 4 == 0:\n",
    "    print(\"Leap year.\")\n",
    "else:\n",
    "    print(\"Not a leap year.\")"
   ]
  },
  {
   "cell_type": "code",
   "execution_count": 35,
   "metadata": {},
   "outputs": [
    {
     "name": "stdout",
     "output_type": "stream",
     "text": [
      "Consonant.\n",
      "The temperature rose.\n",
      "The number is not divisible by both 5 and 11.\n"
     ]
    }
   ],
   "source": [
    "# imagine you're creating a language learning app. The user will input a letter and your program will tell them if it is a vowel or a consonant.\n",
    "letter = input(\"Please enter a letter: \")\n",
    "if letter.lower() in \"aeiou\":\n",
    "    print(\"Vowel.\")\n",
    "else:\n",
    "    print(\"Consonant.\")\n",
    "\n",
    "# you are developing a Python program for your meteorology app to help track temperature changes. The program will prompt the user to input the temperature reading for two consecutive days - today's temperature and yesterday's temperature. The user should enter these temperatures in degrees Celsius. Write a Python program that calculates the temperature change between the two days and determines whether the temperature rose, fell, or remained the same. Provide appropriate feedback based on the calculated temperature change.\n",
    "today = float(input(\"Please enter today's temperature in degrees Celsius: \"))\n",
    "yesterday = float(input(\"Please enter yesterday's temperature in degrees Celsius: \"))\n",
    "temperature_change = today - yesterday\n",
    "if temperature_change > 0:\n",
    "    print(\"The temperature rose.\")\n",
    "elif temperature_change < 0:\n",
    "    print(\"The temperature fell.\")\n",
    "else:  \n",
    "    print(\"The temperature remained the same.\")\n",
    "\n",
    "# imagine you are a helpful assistant to a math teacher. Your task is to create a Python program that can check if a student's number is divisible by both 5 and 11. This program will provide instant feedback to the students to assist them in their math exercises.\n",
    "number = int(input(\"Please enter a number: \"))\n",
    "if number % 5 == 0 and number % 11 == 0:\n",
    "    print(\"The number is divisible by both 5 and 11.\")\n",
    "else:\n",
    "    print(\"The number is not divisible by both 5 and 11.\")"
   ]
  },
  {
   "cell_type": "code",
   "execution_count": 3,
   "metadata": {},
   "outputs": [
    {
     "name": "stdout",
     "output_type": "stream",
     "text": [
      "result: None\n",
      "bool(result): False\n"
     ]
    }
   ],
   "source": [
    "def func(parameter):\n",
    "    if parameter == 0:\n",
    "        return # None\n",
    "    else:\n",
    "        return parameter * 2\n",
    "    \n",
    "result = func(0)\n",
    "\n",
    "print('result:', result)\n",
    "print('bool(result):', bool(result))\n",
    "\n",
    "if bool(result):\n",
    "    print('Entratoh:', result)"
   ]
  },
  {
   "cell_type": "markdown",
   "metadata": {},
   "source": [
    "## Esercizio martedì"
   ]
  },
  {
   "cell_type": "code",
   "execution_count": 1,
   "metadata": {},
   "outputs": [
    {
     "name": "stdout",
     "output_type": "stream",
     "text": [
      "*\n",
      "**\n",
      "***\n",
      "****\n",
      "*****\n"
     ]
    }
   ],
   "source": [
    "# you need to create a pyramid use a while loop and print statement to generate each line. Each line should have one more * character than the line before it.\n",
    "i = 1\n",
    "while i <= 5:\n",
    "    print('*' * i)\n",
    "    i += 1"
   ]
  },
  {
   "cell_type": "markdown",
   "metadata": {},
   "source": [
    "# crea un programma in cui si deve indovinare un numero tra 0 e 10, con solo 7 tentativi a disposizione dopo di che il programma restituisce hai perso\n"
   ]
  },
  {
   "cell_type": "code",
   "execution_count": 5,
   "metadata": {},
   "outputs": [
    {
     "name": "stdout",
     "output_type": "stream",
     "text": [
      "Try again.\n",
      "Try again.\n",
      "Try again.\n",
      "Try again.\n",
      "Try again.\n",
      "Try again.\n",
      "Try again.\n",
      "You lost. The number was 8\n"
     ]
    }
   ],
   "source": [
    "import random\n",
    "mistery_number = random.randint(0, 10)\n",
    "attempts = 0\n",
    "while attempts < 7:\n",
    "    guess = int(input(\"Please enter your guess: \"))\n",
    "    if guess == mistery_number:\n",
    "        print(\"You guessed the number!\")\n",
    "        break\n",
    "    else:\n",
    "        print(\"Try again.\")\n",
    "    attempts += 1\n",
    "else:\n",
    "    print(\"You lost. The number was \" + str(mistery_number))"
   ]
  },
  {
   "cell_type": "markdown",
   "metadata": {},
   "source": [
    "# scegli numero casuale tra 0 e 100, con 7 guess per indovinare il numero, dopo di che restituisce il messaggio hai perso. Tuttavia ogni volta che la risposta viene sbagliata il programma restituisce se il numero è maggiore o minore della guess "
   ]
  },
  {
   "cell_type": "markdown",
   "metadata": {},
   "source": []
  },
  {
   "cell_type": "code",
   "execution_count": 7,
   "metadata": {},
   "outputs": [
    {
     "name": "stdout",
     "output_type": "stream",
     "text": [
      "Try a higher number then 50\n",
      "Try a higher number then 75\n",
      "Try a higher number then 95\n",
      "Try a higher number then 99\n",
      "You guessed the number!\n"
     ]
    }
   ],
   "source": [
    "import random\n",
    "mistery_number = random.randint(0, 100)\n",
    "attempts = 7\n",
    "while attempts > 0:\n",
    "    guess = int(input(\"Please enter your number: \"))\n",
    "    if guess == mistery_number:\n",
    "        print(\"You guessed the number!\")\n",
    "        break\n",
    "    elif guess < mistery_number:\n",
    "        print(\"Try a higher number then \" + str(guess))\n",
    "    elif guess > mistery_number:\n",
    "        print(\"Try a lower number then \" + str(guess))\n",
    "    attempts -= 1\n",
    "else:\n",
    "    print(\"You lost. The number was \" + str(mistery_number))"
   ]
  },
  {
   "cell_type": "markdown",
   "metadata": {},
   "source": [
    "## Esercizi mercoledì"
   ]
  },
  {
   "cell_type": "code",
   "execution_count": 1,
   "metadata": {},
   "outputs": [
    {
     "name": "stdout",
     "output_type": "stream",
     "text": [
      "*\n",
      "***\n",
      "*****\n"
     ]
    }
   ],
   "source": [
    "for i in range(6):\n",
    "    if i % 2 == 0:\n",
    "        continue\n",
    "    print('*' * i)"
   ]
  },
  {
   "cell_type": "code",
   "execution_count": 4,
   "metadata": {},
   "outputs": [
    {
     "name": "stdout",
     "output_type": "stream",
     "text": [
      "Time for a coffee break!\n"
     ]
    }
   ],
   "source": [
    "activities = [\"coding\", \"reading\", \"COFFEE BREAK\", \"more coding\"]\n",
    "\n",
    "for activity in activities:\n",
    "    if activity == \"COFFEE BREAK\":\n",
    "        print(\"Time for a coffee break!\")\n",
    "        break"
   ]
  },
  {
   "cell_type": "code",
   "execution_count": 3,
   "metadata": {},
   "outputs": [
    {
     "name": "stdout",
     "output_type": "stream",
     "text": [
      "cat\n",
      "dog\n",
      "fish\n",
      "lion\n",
      "elephant\n",
      "bird\n",
      "deer\n",
      "tiger\n",
      "bear\n",
      "lion lives in land\n",
      "elephant lives in land\n"
     ]
    }
   ],
   "source": [
    "list1 = ['cat', 'dog', 'fish']\n",
    "tuple1 = ('lion', 'elephant', 'bird')\n",
    "set1 = {'tiger', 'bear', 'deer'}\n",
    "dict1 = {'lion': 'land', 'elephant': 'land', 'fish': 'water'}\n",
    "\n",
    "for element in list1:\n",
    "    print(element)\n",
    "\n",
    "for element in tuple1:\n",
    "    print(element)\n",
    "\n",
    "for element in set1:\n",
    "    print(element)\n",
    "\n",
    "for animal, habitat in dict1.items():\n",
    "    if habitat == 'land':\n",
    "        print(f\"{animal} lives in {habitat}\")\n"
   ]
  },
  {
   "cell_type": "markdown",
   "metadata": {},
   "source": [
    "## lezione Giovedì"
   ]
  },
  {
   "cell_type": "code",
   "execution_count": 27,
   "metadata": {},
   "outputs": [],
   "source": [
    "# crea una funzione per verificare se una stringa è palindroma\n",
    "\n",
    "def is_palindrome(string):\n",
    "    clean_string = string.lower()\n",
    "    clean_string = clean_string.replace(\" \", \"\")\n",
    "\n",
    "    if clean_string == clean_string[::-1]:    # qui verifichiamo semplicemente se la prima str è uguale proprio alla str al contrario\n",
    "        print(f\"The word {clean_string} is palindrome\")\n",
    "    else:\n",
    "        print(f\"The word {clean_string} is NOT palindrome\")"
   ]
  },
  {
   "cell_type": "code",
   "execution_count": 28,
   "metadata": {},
   "outputs": [
    {
     "name": "stdout",
     "output_type": "stream",
     "text": [
      "The word itopinonavevanonipoti is palindrome\n",
      "The word yamamay is palindrome\n",
      "The word anna is palindrome\n",
      "The word sennimondo is NOT palindrome\n",
      "The word itopinonavevanonipoti is palindrome\n",
      "The word amoriderediroma is palindrome\n",
      "The word ossesso is palindrome\n",
      "The word eriunnanononannuire is palindrome\n",
      "The word eranimesidiseminare is palindrome\n"
     ]
    }
   ],
   "source": [
    "is_palindrome(\"itopinonavevanonipoti\")\n",
    "is_palindrome(\"yamamay\")\n",
    "is_palindrome(\"Anna\")\n",
    "is_palindrome(\"sennimondo\")\n",
    "is_palindrome(\"i topi non avevano nipoti\")\n",
    "is_palindrome(\"Amo ridere di Roma\")\n",
    "is_palindrome(\"ossesso\")\n",
    "is_palindrome(\"Eri un Nano Non ANNUIRE\")\n",
    "is_palindrome(\"Eran i mesi di Seminare\")"
   ]
  },
  {
   "cell_type": "code",
   "execution_count": 32,
   "metadata": {},
   "outputs": [
    {
     "name": "stdout",
     "output_type": "stream",
     "text": [
      "The word ciao is NOT palindrome\n",
      "The word come is NOT palindrome\n",
      "The word stai is NOT palindrome\n",
      "The word anna is palindrome\n"
     ]
    }
   ],
   "source": [
    "# crea una lista di stringhe \n",
    "lista = [\"ciao\", \"come\", \"stai\", \"Anna\"]\n",
    "\n",
    "#in questa lista c'è una parola palindroma? \n",
    "for parola in lista:\n",
    "    is_palindrome(parola)"
   ]
  },
  {
   "cell_type": "code",
   "execution_count": 29,
   "metadata": {},
   "outputs": [
    {
     "name": "stdout",
     "output_type": "stream",
     "text": [
      "G\n",
      "i\n",
      "o\n",
      "e\n",
      "l\n",
      "e\n"
     ]
    }
   ],
   "source": [
    "for lettera in \"Gioele\":\n",
    "    print(lettera)"
   ]
  },
  {
   "cell_type": "code",
   "execution_count": 34,
   "metadata": {},
   "outputs": [],
   "source": [
    "def is_palindrome_bool(string):\n",
    "    clean_string = string.lower()\n",
    "    clean_string = clean_string.replace(\" \", \"\")\n",
    "\n",
    "    if clean_string == clean_string[::-1]:    # qui verifichiamo semplicemente se la prima str è uguale proprio alla str al contrario\n",
    "        return True\n",
    "    else:\n",
    "        return False"
   ]
  },
  {
   "cell_type": "code",
   "execution_count": 37,
   "metadata": {},
   "outputs": [],
   "source": [
    "# nuova funzione che prende una lista di parole e cerca se una è palindroma\n",
    "\n",
    "def has_palindrome(list):\n",
    "    for word in list:\n",
    "        if is_palindrome_bool(word):\n",
    "            print(\"Has a palindrome word\")\n",
    "            return\n",
    "    print(\"Has not palindrome word\")"
   ]
  },
  {
   "cell_type": "code",
   "execution_count": 38,
   "metadata": {},
   "outputs": [
    {
     "name": "stdout",
     "output_type": "stream",
     "text": [
      "Has a palindrome word\n"
     ]
    }
   ],
   "source": [
    "has_palindrome(lista)"
   ]
  },
  {
   "cell_type": "markdown",
   "metadata": {},
   "source": [
    "## DIZIONARI"
   ]
  },
  {
   "cell_type": "code",
   "execution_count": 40,
   "metadata": {},
   "outputs": [
    {
     "data": {
      "text/plain": [
       "{'name': 'Lorenzo'}"
      ]
     },
     "execution_count": 40,
     "metadata": {},
     "output_type": "execute_result"
    }
   ],
   "source": [
    "dizionario = {}\n",
    "dizionario[\"name\"] = \"Lorenzo\"\n",
    "dizionario"
   ]
  },
  {
   "cell_type": "code",
   "execution_count": 46,
   "metadata": {},
   "outputs": [],
   "source": [
    "# crea una funzione che riporta il numero di occorrenze per ogni lettera in una stringa, quindi quante volte si ripete ogni lettera nella stringa\n",
    "\n",
    "def count_letter_occurrences(string):\n",
    "    dictionary = {}\n",
    "    for letter in string:\n",
    "        if letter in dictionary:\n",
    "            dictionary[letter] += 1\n",
    "        else: \n",
    "            dictionary[letter] = 1\n",
    "    print(dictionary)\n",
    "    return dictionary"
   ]
  },
  {
   "cell_type": "code",
   "execution_count": 48,
   "metadata": {},
   "outputs": [
    {
     "name": "stdout",
     "output_type": "stream",
     "text": [
      "{'a': 3, 'b': 2}\n"
     ]
    }
   ],
   "source": [
    "dictionary = count_letter_occurrences(\"aaabb\")"
   ]
  },
  {
   "cell_type": "code",
   "execution_count": 49,
   "metadata": {},
   "outputs": [
    {
     "data": {
      "text/plain": [
       "3"
      ]
     },
     "execution_count": 49,
     "metadata": {},
     "output_type": "execute_result"
    }
   ],
   "source": [
    "dictionary[\"a\"]"
   ]
  },
  {
   "cell_type": "code",
   "execution_count": 56,
   "metadata": {},
   "outputs": [],
   "source": [
    "# crea una funzione per vendere gli articoli di uno store che aggiorna i valori del dizionario in base a cosa si vende\n",
    "store = {\"jeans\": 5, \"t-shirt\": 3}\n",
    "\n",
    "def sell(item):\n",
    "    if store[item] == 0:\n",
    "        print(\"Articolo non disponibile.\")\n",
    "    else:\n",
    "        store[item] -= 1"
   ]
  },
  {
   "cell_type": "code",
   "execution_count": 63,
   "metadata": {},
   "outputs": [
    {
     "name": "stdout",
     "output_type": "stream",
     "text": [
      "Articolo non disponibile.\n"
     ]
    }
   ],
   "source": [
    "sell(\"jeans\")"
   ]
  },
  {
   "cell_type": "code",
   "execution_count": 64,
   "metadata": {},
   "outputs": [
    {
     "data": {
      "text/plain": [
       "{'jeans': 0, 't-shirt': 3}"
      ]
     },
     "execution_count": 64,
     "metadata": {},
     "output_type": "execute_result"
    }
   ],
   "source": [
    "store"
   ]
  },
  {
   "cell_type": "code",
   "execution_count": null,
   "metadata": {},
   "outputs": [],
   "source": []
  }
 ],
 "metadata": {
  "kernelspec": {
   "display_name": "Python 3",
   "language": "python",
   "name": "python3"
  },
  "language_info": {
   "codemirror_mode": {
    "name": "ipython",
    "version": 3
   },
   "file_extension": ".py",
   "mimetype": "text/x-python",
   "name": "python",
   "nbconvert_exporter": "python",
   "pygments_lexer": "ipython3",
   "version": "3.12.8"
  }
 },
 "nbformat": 4,
 "nbformat_minor": 2
}
