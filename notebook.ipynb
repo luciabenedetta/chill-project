{
 "cells": [
  {
   "cell_type": "code",
   "execution_count": 3,
   "metadata": {},
   "outputs": [
    {
     "name": "stdout",
     "output_type": "stream",
     "text": [
      "ciao\n"
     ]
    }
   ],
   "source": [
    "a = \"ciao\"\n",
    "print(a)"
   ]
  },
  {
   "cell_type": "code",
   "execution_count": 4,
   "metadata": {},
   "outputs": [
    {
     "data": {
      "text/plain": [
       "str"
      ]
     },
     "execution_count": 4,
     "metadata": {},
     "output_type": "execute_result"
    }
   ],
   "source": [
    "type(a)"
   ]
  },
  {
   "cell_type": "code",
   "execution_count": 1,
   "metadata": {},
   "outputs": [
    {
     "name": "stdout",
     "output_type": "stream",
     "text": [
      "on Tom LONG wolk\n",
      "<class 'str'>\n"
     ]
    }
   ],
   "source": [
    "# text in lower\n",
    "word_ON = \"ON\"\n",
    "\n",
    "# name capitalized \n",
    "name = \"tom\"\n",
    "\n",
    "# text in uppercase \n",
    "word_long = \"long\"\n",
    "\n",
    "# replace the a with the o \n",
    "word_walk = \"walk\"\n",
    "\n",
    "# print everithing in one single string \n",
    "text = (word_ON.lower() + \" \" + name.capitalize() + \" \" + word_long.upper() + \" \" + word_walk.replace(\"a\", \"o\"))\n",
    "\n",
    "print(text)\n",
    "\n",
    "separation = text.split()\n",
    "\n",
    "print(type(text))"
   ]
  },
  {
   "cell_type": "code",
   "execution_count": 3,
   "metadata": {},
   "outputs": [
    {
     "name": "stdout",
     "output_type": "stream",
     "text": [
      "Welcome James, your age is 25\n"
     ]
    }
   ],
   "source": [
    "name = \"James\" \n",
    "age = 25 \n",
    "\n",
    "hellomsg = f\"Welcome {name}, your age is {age}\" \n",
    "\n",
    "print(hellomsg)"
   ]
  },
  {
   "cell_type": "code",
   "execution_count": 4,
   "metadata": {},
   "outputs": [
    {
     "name": "stdout",
     "output_type": "stream",
     "text": [
      "Hello, my name is Lucia, I am 28 and I come from Naples.\n",
      "Hello, my name is Champion Lucia, I am 28 and I come from Naples.\n",
      "Hello, my name is Champion Lucia, I am 28 and I come from Naples. I am 1.55 tall and I am a hero: True\n",
      "<class 'str'> <class 'str'> <class 'str'> <class 'float'> <class 'bool'>\n"
     ]
    }
   ],
   "source": [
    "name = \"Lucia\"\n",
    "\n",
    "age = \"28\" \n",
    "\n",
    "city = \"Naples\" \n",
    "\n",
    "me = (\"Hello, my name is \" + name + \", I am \" + age + \" and I come from \" + city + \".\")\n",
    "\n",
    "print(me)\n",
    "\n",
    "name = \"Champion \" + name \n",
    "\n",
    "myself = (\"Hello, my name is \" + name + \", I am \" + age + \" and I come from \" + city + \".\")\n",
    "\n",
    "print(myself)\n",
    "\n",
    "height = 1.55 \n",
    "\n",
    "is_hero = True \n",
    "\n",
    "and_I = (\"Hello, my name is \" + name + \", I am \" + age + \" and I come from \" + city + \". I am \" + str(height) + \" tall and I am a hero: \" + str(is_hero))\n",
    "\n",
    "print(and_I)\n",
    "\n",
    "print(type(name), type(age), type(city), type(height), type(is_hero))"
   ]
  },
  {
   "cell_type": "code",
   "execution_count": 7,
   "metadata": {},
   "outputs": [
    {
     "name": "stdout",
     "output_type": "stream",
     "text": [
      "Hello, my name is Lucia Benedetta, I am 28 and I come from Naples.\n",
      "Lucia Benedetta Mattiello\n",
      "Lucia Benedetta's favourite programming language is Python.\n",
      "Lucia Benedetta's age is 29\n",
      "Your bio has 28 characters.\n"
     ]
    }
   ],
   "source": [
    "# ask the user for their name, age and city of residence \n",
    "name = input(\"What is your name? \")\n",
    "age = input(\"How old are you? \")\n",
    "city_of_residence = input(\"Where do you live? \")\n",
    "\n",
    "# create a sentence for their profile\n",
    "profile_sentence = (\"Hello, my name is \" + name + \", I am \" + age + \" and I come from \" + city_of_residence + \".\")\n",
    "print(profile_sentence)\n",
    "\n",
    "# convert profile info in lower case \n",
    "profile_sentence_lower = profile_sentence.lower() \n",
    "\n",
    "# find the lenght of each string \n",
    "name_length = len(name)\n",
    "age_length = len(age)\n",
    "city_of_residence_length = len(city_of_residence)\n",
    "\n",
    "# ask for their first and last name separately and then combine them \n",
    "first_name = input(\"What is your first name? \")\n",
    "last_name = input(\"What is your last name? \")\n",
    "full_name = first_name + \" \" + last_name    \n",
    "print(full_name)\n",
    "\n",
    "#ask for their favourite programming language and construct a sentence \n",
    "fav_language = input(\"What is your favourite programming language? \")   \n",
    "fav_language_sentence = (name + \"'s favourite programming language is \" + fav_language + \".\")\n",
    "print(fav_language_sentence)\n",
    "\n",
    "# age verification \n",
    "current_year = int(input(\"What is the current year? \"))\n",
    "birth_year = int(input(\"What year were you born? \"))\n",
    "age = current_year - birth_year\n",
    "print(name + \"'s age is \" + str(age))\n",
    "\n",
    "# add a bio and print the number of characters\n",
    "bio = input(\"Write a short bio: \")\n",
    "bio_length = len(bio)\n",
    "print(\"Your bio has \" + str(bio_length) + \" characters.\") "
   ]
  },
  {
   "cell_type": "code",
   "execution_count": 11,
   "metadata": {},
   "outputs": [
    {
     "name": "stdout",
     "output_type": "stream",
     "text": [
      "Hello L nice to meet you! a\n",
      "False\n",
      "I'm happy that you're feeling happy!\n",
      "I\n",
      "am\n",
      "writing\n",
      "code\n",
      "in\n",
      "python\n"
     ]
    }
   ],
   "source": [
    "# say hello using the user's first letter of the name and end the sentence with the last letter \n",
    "name = \"Lucia\"\n",
    "print(\"Hello \" + name[0] + \" nice to meet you! \" + name[-1])\n",
    "\n",
    "# check if there is any digit in the name\n",
    "check = name.isdigit()\n",
    "print(check)\n",
    "\n",
    "# ask how are they feeling and replace sad with happy \n",
    "feels = input(\"How are you feeling today? \")\n",
    "feels_replaced = feels.replace(\"sad\", \"happy\")\n",
    "print(\"I'm happy that you're feeling \" + feels_replaced + \"!\")\n",
    "\n",
    "# breakdown sentence into separate words into new lines \n",
    "sentence = input(\"Write something about you: \")\n",
    "words = sentence.split() \n",
    "for word in words:\n",
    "print(word)"
   ]
  },
  {
   "cell_type": "code",
   "execution_count": 4,
   "metadata": {},
   "outputs": [
    {
     "name": "stdout",
     "output_type": "stream",
     "text": [
      "Your username is: La\n",
      "Your unique code is uci\n",
      "Hi Lucia, welcome to the club!\n",
      "5\n"
     ]
    }
   ],
   "source": [
    "name = \"Lucia\"\n",
    "\n",
    "# create unique username using the first and last letter of the name\n",
    "username = name[0] + name[-1]\n",
    "print(\"Your username is: \" + username)\n",
    "\n",
    "# create a unique code using the middle 3 characters of the name \n",
    "code = name[1:4] #in questo caso nell'indicizzazione python include quello di sx ma esclude quello di dx\n",
    "print(\"Your unique code is \" + code)\n",
    "\n",
    "# create a greeting personalized message concatenating the name to create a new string \n",
    "greeting = \"Hi \" + name + \", welcome to the club!\"\n",
    "print(greeting) \n",
    "\n",
    "# use the len function to find the length of the name\n",
    "name_length = len(name)\n",
    "print(name_length)\n"
   ]
  },
  {
   "cell_type": "code",
   "execution_count": 6,
   "metadata": {},
   "outputs": [
    {
     "name": "stdout",
     "output_type": "stream",
     "text": [
      "The sky is blue\n",
      "sky\n",
      "SKY\n",
      "Today's highlighted word is: SKY\n"
     ]
    }
   ],
   "source": [
    "quote = \"The sky is blue\"\n",
    "print(quote)\n",
    "\n",
    "# use str slicing to extract the word \"sky\" from the quote\n",
    "word = quote[4:7]\n",
    "print(word) \n",
    "\n",
    "# uppercase the word\n",
    "word_upper = word.upper()\n",
    "print(word_upper)\n",
    "\n",
    "# Prepare a sentence that says \"Today's highlighted word is: {}\" and insert your uppercased word into the template.\n",
    "sentence = \"Today's highlighted word is: \" + word_upper \n",
    "print(sentence)"
   ]
  },
  {
   "cell_type": "code",
   "execution_count": 7,
   "metadata": {},
   "outputs": [],
   "source": [
    "# la funzione def serve a definire una funzione e a \"ricordarla\" nel tempo di modo che possa essere richiamata in qualsiasi momento\n",
    "def print_last_letter_of(string):\n",
    "    last_letter = string[-1]\n",
    "    print(last_letter)"
   ]
  },
  {
   "cell_type": "code",
   "execution_count": 8,
   "metadata": {},
   "outputs": [
    {
     "name": "stdout",
     "output_type": "stream",
     "text": [
      "i\n"
     ]
    }
   ],
   "source": [
    "print_last_letter_of(string = \"come vuoi\")"
   ]
  },
  {
   "cell_type": "code",
   "execution_count": null,
   "metadata": {},
   "outputs": [],
   "source": [
    "# in questo def si può anche specificare l'indice della lettera che si vuole stampare\n",
    "def print_a_letter_of(string, index):\n",
    "    letter = string[index] \n",
    "    print(letter)"
   ]
  },
  {
   "cell_type": "code",
   "execution_count": 11,
   "metadata": {},
   "outputs": [
    {
     "name": "stdout",
     "output_type": "stream",
     "text": [
      "c\n"
     ]
    }
   ],
   "source": [
    "print_a_letter_of(\"Lucia\", 2)"
   ]
  },
  {
   "cell_type": "code",
   "execution_count": 12,
   "metadata": {},
   "outputs": [],
   "source": [
    "def take_a_letter_of(string, index=-1):\n",
    "    letter = string[index]\n",
    "    return letter"
   ]
  },
  {
   "cell_type": "code",
   "execution_count": null,
   "metadata": {},
   "outputs": [],
   "source": []
  }
 ],
 "metadata": {
  "kernelspec": {
   "display_name": "Python 3",
   "language": "python",
   "name": "python3"
  },
  "language_info": {
   "codemirror_mode": {
    "name": "ipython",
    "version": 3
   },
   "file_extension": ".py",
   "mimetype": "text/x-python",
   "name": "python",
   "nbconvert_exporter": "python",
   "pygments_lexer": "ipython3",
   "version": "3.12.8"
  }
 },
 "nbformat": 4,
 "nbformat_minor": 2
}
