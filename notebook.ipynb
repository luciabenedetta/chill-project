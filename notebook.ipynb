{
 "cells": [
  {
   "cell_type": "code",
   "execution_count": 3,
   "metadata": {},
   "outputs": [
    {
     "name": "stdout",
     "output_type": "stream",
     "text": [
      "ciao\n"
     ]
    }
   ],
   "source": [
    "a = \"ciao\"\n",
    "print(a)"
   ]
  },
  {
   "cell_type": "code",
   "execution_count": 4,
   "metadata": {},
   "outputs": [
    {
     "data": {
      "text/plain": [
       "str"
      ]
     },
     "execution_count": 4,
     "metadata": {},
     "output_type": "execute_result"
    }
   ],
   "source": [
    "type(a)"
   ]
  },
  {
   "cell_type": "code",
   "execution_count": 1,
   "metadata": {},
   "outputs": [
    {
     "name": "stdout",
     "output_type": "stream",
     "text": [
      "on Tom LONG wolk\n",
      "<class 'str'>\n"
     ]
    }
   ],
   "source": [
    "# text in lower\n",
    "word_ON = \"ON\"\n",
    "\n",
    "# name capitalized \n",
    "name = \"tom\"\n",
    "\n",
    "# text in uppercase \n",
    "word_long = \"long\"\n",
    "\n",
    "# replace the a with the o \n",
    "word_walk = \"walk\"\n",
    "\n",
    "# print everithing in one single string \n",
    "text = (word_ON.lower() + \" \" + name.capitalize() + \" \" + word_long.upper() + \" \" + word_walk.replace(\"a\", \"o\"))\n",
    "\n",
    "print(text)\n",
    "\n",
    "separation = text.split()\n",
    "\n",
    "print(type(text))"
   ]
  },
  {
   "cell_type": "code",
   "execution_count": 3,
   "metadata": {},
   "outputs": [
    {
     "name": "stdout",
     "output_type": "stream",
     "text": [
      "Welcome James, your age is 25\n"
     ]
    }
   ],
   "source": [
    "name = \"James\" \n",
    "age = 25 \n",
    "\n",
    "hellomsg = f\"Welcome {name}, your age is {age}\" \n",
    "\n",
    "print(hellomsg)"
   ]
  },
  {
   "cell_type": "code",
   "execution_count": 4,
   "metadata": {},
   "outputs": [
    {
     "name": "stdout",
     "output_type": "stream",
     "text": [
      "Hello, my name is Lucia, I am 28 and I come from Naples.\n",
      "Hello, my name is Champion Lucia, I am 28 and I come from Naples.\n",
      "Hello, my name is Champion Lucia, I am 28 and I come from Naples. I am 1.55 tall and I am a hero: True\n",
      "<class 'str'> <class 'str'> <class 'str'> <class 'float'> <class 'bool'>\n"
     ]
    }
   ],
   "source": [
    "name = \"Lucia\"\n",
    "\n",
    "age = \"28\" \n",
    "\n",
    "city = \"Naples\" \n",
    "\n",
    "me = (\"Hello, my name is \" + name + \", I am \" + age + \" and I come from \" + city + \".\")\n",
    "\n",
    "print(me)\n",
    "\n",
    "name = \"Champion \" + name \n",
    "\n",
    "myself = (\"Hello, my name is \" + name + \", I am \" + age + \" and I come from \" + city + \".\")\n",
    "\n",
    "print(myself)\n",
    "\n",
    "height = 1.55 \n",
    "\n",
    "is_hero = True \n",
    "\n",
    "and_I = (\"Hello, my name is \" + name + \", I am \" + age + \" and I come from \" + city + \". I am \" + str(height) + \" tall and I am a hero: \" + str(is_hero))\n",
    "\n",
    "print(and_I)\n",
    "\n",
    "print(type(name), type(age), type(city), type(height), type(is_hero))"
   ]
  },
  {
   "cell_type": "code",
   "execution_count": 7,
   "metadata": {},
   "outputs": [
    {
     "name": "stdout",
     "output_type": "stream",
     "text": [
      "Hello, my name is Lucia Benedetta, I am 28 and I come from Naples.\n",
      "Lucia Benedetta Mattiello\n",
      "Lucia Benedetta's favourite programming language is Python.\n",
      "Lucia Benedetta's age is 29\n",
      "Your bio has 28 characters.\n"
     ]
    }
   ],
   "source": [
    "# ask the user for their name, age and city of residence \n",
    "name = input(\"What is your name? \")\n",
    "age = input(\"How old are you? \")\n",
    "city_of_residence = input(\"Where do you live? \")\n",
    "\n",
    "# create a sentence for their profile\n",
    "profile_sentence = (\"Hello, my name is \" + name + \", I am \" + age + \" and I come from \" + city_of_residence + \".\")\n",
    "print(profile_sentence)\n",
    "\n",
    "# convert profile info in lower case \n",
    "profile_sentence_lower = profile_sentence.lower() \n",
    "\n",
    "# find the lenght of each string \n",
    "name_length = len(name)\n",
    "age_length = len(age)\n",
    "city_of_residence_length = len(city_of_residence)\n",
    "\n",
    "# ask for their first and last name separately and then combine them \n",
    "first_name = input(\"What is your first name? \")\n",
    "last_name = input(\"What is your last name? \")\n",
    "full_name = first_name + \" \" + last_name    \n",
    "print(full_name)\n",
    "\n",
    "#ask for their favourite programming language and construct a sentence \n",
    "fav_language = input(\"What is your favourite programming language? \")   \n",
    "fav_language_sentence = (name + \"'s favourite programming language is \" + fav_language + \".\")\n",
    "print(fav_language_sentence)\n",
    "\n",
    "# age verification \n",
    "current_year = int(input(\"What is the current year? \"))\n",
    "birth_year = int(input(\"What year were you born? \"))\n",
    "age = current_year - birth_year\n",
    "print(name + \"'s age is \" + str(age))\n",
    "\n",
    "# add a bio and print the number of characters\n",
    "bio = input(\"Write a short bio: \")\n",
    "bio_length = len(bio)\n",
    "print(\"Your bio has \" + str(bio_length) + \" characters.\") "
   ]
  },
  {
   "cell_type": "code",
   "execution_count": 11,
   "metadata": {},
   "outputs": [
    {
     "name": "stdout",
     "output_type": "stream",
     "text": [
      "Hello L nice to meet you! a\n",
      "False\n",
      "I'm happy that you're feeling happy!\n",
      "I\n",
      "am\n",
      "writing\n",
      "code\n",
      "in\n",
      "python\n"
     ]
    }
   ],
   "source": [
    "# say hello using the user's first letter of the name and end the sentence with the last letter \n",
    "name = \"Lucia\"\n",
    "print(\"Hello \" + name[0] + \" nice to meet you! \" + name[-1])\n",
    "\n",
    "# check if there is any digit in the name\n",
    "check = name.isdigit()\n",
    "print(check)\n",
    "\n",
    "# ask how are they feeling and replace sad with happy \n",
    "feels = input(\"How are you feeling today? \")\n",
    "feels_replaced = feels.replace(\"sad\", \"happy\")\n",
    "print(\"I'm happy that you're feeling \" + feels_replaced + \"!\")\n",
    "\n",
    "# breakdown sentence into separate words into new lines \n",
    "sentence = input(\"Write something about you: \")\n",
    "words = sentence.split() \n",
    "for word in words:\n",
    "print(word)"
   ]
  },
  {
   "cell_type": "code",
   "execution_count": 4,
   "metadata": {},
   "outputs": [
    {
     "name": "stdout",
     "output_type": "stream",
     "text": [
      "Your username is: La\n",
      "Your unique code is uci\n",
      "Hi Lucia, welcome to the club!\n",
      "5\n"
     ]
    }
   ],
   "source": [
    "name = \"Lucia\"\n",
    "\n",
    "# create unique username using the first and last letter of the name\n",
    "username = name[0] + name[-1]\n",
    "print(\"Your username is: \" + username)\n",
    "\n",
    "# create a unique code using the middle 3 characters of the name \n",
    "code = name[1:4] #in questo caso nell'indicizzazione python include quello di sx ma esclude quello di dx\n",
    "print(\"Your unique code is \" + code)\n",
    "\n",
    "# create a greeting personalized message concatenating the name to create a new string \n",
    "greeting = \"Hi \" + name + \", welcome to the club!\"\n",
    "print(greeting) \n",
    "\n",
    "# use the len function to find the length of the name\n",
    "name_length = len(name)\n",
    "print(name_length)\n"
   ]
  },
  {
   "cell_type": "code",
   "execution_count": 6,
   "metadata": {},
   "outputs": [
    {
     "name": "stdout",
     "output_type": "stream",
     "text": [
      "The sky is blue\n",
      "sky\n",
      "SKY\n",
      "Today's highlighted word is: SKY\n"
     ]
    }
   ],
   "source": [
    "quote = \"The sky is blue\"\n",
    "print(quote)\n",
    "\n",
    "# use str slicing to extract the word \"sky\" from the quote\n",
    "word = quote[4:7]\n",
    "print(word) \n",
    "\n",
    "# uppercase the word\n",
    "word_upper = word.upper()\n",
    "print(word_upper)\n",
    "\n",
    "# Prepare a sentence that says \"Today's highlighted word is: {}\" and insert your uppercased word into the template.\n",
    "sentence = \"Today's highlighted word is: \" + word_upper \n",
    "print(sentence)"
   ]
  },
  {
   "cell_type": "code",
   "execution_count": 7,
   "metadata": {},
   "outputs": [],
   "source": [
    "# la funzione def serve a definire una funzione e a \"ricordarla\" nel tempo di modo che possa essere richiamata in qualsiasi momento\n",
    "def print_last_letter_of(string):\n",
    "    last_letter = string[-1]\n",
    "    print(last_letter)"
   ]
  },
  {
   "cell_type": "code",
   "execution_count": 8,
   "metadata": {},
   "outputs": [
    {
     "name": "stdout",
     "output_type": "stream",
     "text": [
      "i\n"
     ]
    }
   ],
   "source": [
    "print_last_letter_of(string = \"come vuoi\")"
   ]
  },
  {
   "cell_type": "code",
   "execution_count": null,
   "metadata": {},
   "outputs": [],
   "source": [
    "# in questo def si può anche specificare l'indice della lettera che si vuole stampare\n",
    "def print_a_letter_of(string, index):\n",
    "    letter = string[index] \n",
    "    print(letter)"
   ]
  },
  {
   "cell_type": "code",
   "execution_count": 11,
   "metadata": {},
   "outputs": [
    {
     "name": "stdout",
     "output_type": "stream",
     "text": [
      "c\n"
     ]
    }
   ],
   "source": [
    "print_a_letter_of(\"Lucia\", 2)"
   ]
  },
  {
   "cell_type": "code",
   "execution_count": 12,
   "metadata": {},
   "outputs": [],
   "source": [
    "def take_a_letter_of(string, index=-1):\n",
    "    letter = string[index]\n",
    "    return letter"
   ]
  },
  {
   "cell_type": "code",
   "execution_count": 2,
   "metadata": {},
   "outputs": [
    {
     "name": "stdout",
     "output_type": "stream",
     "text": [
      "1\n"
     ]
    }
   ],
   "source": [
    "apples = 5\n",
    "students = 2\n",
    "students_left = apples % students \n",
    "print(students_left)"
   ]
  },
  {
   "cell_type": "code",
   "execution_count": 3,
   "metadata": {},
   "outputs": [
    {
     "name": "stdout",
     "output_type": "stream",
     "text": [
      "True\n"
     ]
    }
   ],
   "source": [
    "name = \"Mario\"\n",
    "surname = \"Johnson\"\n",
    "print(not(name == \"Mario\" and surname == \"Smith\"))"
   ]
  },
  {
   "cell_type": "code",
   "execution_count": 4,
   "metadata": {},
   "outputs": [
    {
     "name": "stdout",
     "output_type": "stream",
     "text": [
      "Mario Rossi\n"
     ]
    }
   ],
   "source": [
    "# How should you define full_name to correctly concatenate the character's first name and last name into a single string?\n",
    "first_name = \"Mario\"\n",
    "last_name = \"Rossi\"\n",
    "full_name = first_name + \" \" + last_name\n",
    "print(full_name)"
   ]
  },
  {
   "cell_type": "code",
   "execution_count": 5,
   "metadata": {},
   "outputs": [
    {
     "name": "stdout",
     "output_type": "stream",
     "text": [
      "You are eligible to drive a car: True\n"
     ]
    }
   ],
   "source": [
    "# ask users for their age \n",
    "age = int(input(\"What is your age? \"))\n",
    "\n",
    "# ask users if they have a valid driving license y/n \n",
    "license = input(\"Do you have a valid driving license? (yes/no) \")\n",
    "\n",
    "# using logical operators and without using an \"if\" statement, dictionaries, or arrays, determine if the user is eligible to drive a car. Assume that the user needs to be at least 18 years old and must have a valid driving license to be eligible\n",
    "eligible = age >= 18 and license == \"yes\"\n",
    "\n",
    "#print the results  telling the user if they are eligible to drive a car\n",
    "print(\"You are eligible to drive a car: \" + str(eligible))"
   ]
  },
  {
   "cell_type": "code",
   "execution_count": 7,
   "metadata": {},
   "outputs": [
    {
     "name": "stdout",
     "output_type": "stream",
     "text": [
      "1347596\n"
     ]
    }
   ],
   "source": [
    "# ask the user to input an IPv4 address. For simplicity, consider the IP address as a single 8-bit number (so the user should input a number between 0 and 255)\n",
    "ip_address = int(input(\"Please enter an IPv4 address: \"))\n",
    "\n",
    "# ask the user to input a subnet mask. Again, for simplicity, consider the subnet mask as a single 8-bit number (a number between 0 and 255)\n",
    "subnet_mask = int(input(\"Please enter a subnet mask: \"))\n",
    "\n",
    "# using the binary AND operator, apply the subnet mask to the IP address\n",
    "network_address = ip_address & subnet_mask \n",
    "\n",
    "# print the result, which represents the network address\n",
    "print(network_address)\n"
   ]
  },
  {
   "cell_type": "code",
   "execution_count": 9,
   "metadata": {},
   "outputs": [
    {
     "name": "stdout",
     "output_type": "stream",
     "text": [
      "7\n",
      "5\n",
      "15\n",
      "4\n",
      "0\n"
     ]
    }
   ],
   "source": [
    "# you currently have a = 3 loaves of bread and b = 4 baguettes. Write a program that calculates and prints the total number of items in the bakery\n",
    "a = 3\n",
    "b = 4\n",
    "total = a + b \n",
    "print(total)\n",
    "\n",
    "# you're developing a game where a player starts with x = 7 lives but loses y = 2 lives after encountering a ghost. Write a program that calculates and prints the remaining lives after the encounter\n",
    "x = 7\n",
    "y = 2\n",
    "remaining_lives = x - y\n",
    "print(remaining_lives)\n",
    "\n",
    "# you're coding a program for a bookstore. Each book costs p = 5 dollars, and a customer wants to buy q = 3 books. Write a program that calculates and prints the total cost for the customer\n",
    "p = 5  \n",
    "q = 3\n",
    "total_cost = p * q\n",
    "print(total_cost)\n",
    "\n",
    "# you're building an app for a school. A class has m = 8 students, and they need to be divided into n = 2 equal teams for a competition. Write a program that calculates and prints the number of students in each team and the remainder, if any\n",
    "m = 8\n",
    "n = 2\n",
    "students_per_team = m // n\n",
    "remaining_students = m % n\n",
    "print(students_per_team)\n",
    "print(remaining_students)"
   ]
  },
  {
   "cell_type": "code",
   "execution_count": 13,
   "metadata": {},
   "outputs": [
    {
     "name": "stdout",
     "output_type": "stream",
     "text": [
      "1\n",
      "1\n",
      "35\n",
      "79.6\n",
      "25\n",
      "5\n"
     ]
    }
   ],
   "source": [
    "# you're working on a ticketing system for a local theater. For one particular play, you've b = 4 adult tickets and a = 3 child tickets. Write a Python program to calculate and print the integer of dividing the number of adult tickets by the number of child tickets\n",
    "b = 4\n",
    "a = 3\n",
    "division = b // a\n",
    "print(division)\n",
    "\n",
    "# continuing from the previous scenario, now you're interested in how many adult tickets remain after forming as many \"family packages\" (each package contains 1 adult ticket and 1 child ticket) as possible. Write a Python program to calculate and print the remainder of dividing the number of adult tickets by the number of child tickets\n",
    "remaining_adult_tickets = b % a \n",
    "print(remaining_adult_tickets)\n",
    "\n",
    "# you're developing a math learning application. The user is currently practicing addition with the list of numbers [3, 5, 7, 9, 11]. Write a Python program to calculate and print the sum of all elements in the list\n",
    "numbers = [3, 5, 7, 9, 11]\n",
    "total_sum = sum(numbers)\n",
    "print(total_sum)\n",
    "\n",
    "# you're creating an online grade book for a teacher. The teacher has given the grades [83, 85, 72, 63, 95] for an assignment. Write a Python program to calculate and print the average grade\n",
    "grades = [83, 85, 72, 63, 95]\n",
    "average_grade = sum(grades) / len(grades)   \n",
    "print(average_grade)\n",
    "\n",
    "# you're working on an e-commerce application. The application displays a list of prices [5, 10, 15, 20, 25] for a product from various sellers. Write a Python program to calculate and print the highest and lowest price\n",
    "prices = [5, 10, 15, 20, 25]\n",
    "highest_price = max(prices)\n",
    "lowest_price = min(prices)\n",
    "print(highest_price)\n",
    "print(lowest_price)"
   ]
  },
  {
   "cell_type": "code",
   "execution_count": 15,
   "metadata": {},
   "outputs": [
    {
     "name": "stdout",
     "output_type": "stream",
     "text": [
      "11\n",
      "[1, 3, 5, 7, 9]\n",
      "[1, 3, 5]\n",
      "['apple', 'banana', 'cherry']\n"
     ]
    }
   ],
   "source": [
    "# you're developing a fun language game. As part of the game, you need to analyze sentences. Given the sentence = \"The quick brown fox jumps over the lazy dog.\", write a Python program to calculate and print the number of vowels in the sentence\n",
    "sentence = \"The quick brown fox jumps over the lazy dog.\"\n",
    "vowels = \"aeiou\"\n",
    "vowel_count = 0 \n",
    "for letter in sentence:\n",
    "    if letter.lower() in vowels:\n",
    "        vowel_count += 1\n",
    "print(vowel_count)\n",
    "\n",
    "# you're working on a number filtering system. You have a list of numbers = [1, 2, 3, 4, 5, 6, 7, 8, 9, 10]. Your task is to create and print a new list that contains only the odd numbers from the given list\n",
    "numbers = [1, 2, 3, 4, 5, 6, 7, 8, 9, 10]\n",
    "odd_numbers = []\n",
    "for number in numbers:\n",
    "    if number % 2 != 0:\n",
    "        odd_numbers.append(number)\n",
    "print(odd_numbers)\n",
    "\n",
    "# you are working on an inventory management system. In your system, you have a mixed list = [1, \"apple\", 3, \"banana\", 5, \"cherry\"]. Now you want to organize the data into separate lists for better management. Write a Python program to create and print two separate lists: one containing the numbers and the other containing the strings\n",
    "mixed_list = [1, \"apple\", 3, \"banana\", 5, \"cherry\"]\n",
    "numbers = []\n",
    "strings = []\n",
    "for item in mixed_list:\n",
    "    if type(item) == int:\n",
    "        numbers.append(item)\n",
    "    else:\n",
    "        strings.append(item)\n",
    "print(numbers)\n",
    "print(strings)"
   ]
  },
  {
   "cell_type": "code",
   "execution_count": 17,
   "metadata": {},
   "outputs": [
    {
     "name": "stdout",
     "output_type": "stream",
     "text": [
      "14.99\n",
      "14\n",
      "14\n"
     ]
    }
   ],
   "source": [
    "# create a variable price that represents the price of a product as a float\n",
    "price = 14.99\n",
    "\n",
    "# the business has decided to convert all their prices to integer values to simplify their billing process. Convert price to an integer value and store it in a new variable new_price\n",
    "new_price = int(price)\n",
    "\n",
    "# the business wants to create price tags for the products in their store. These price tags require the prices to be in string format. Convert new_price to a string and store it in a new variable price_tag\n",
    "price_tag = str(new_price)\n",
    "\n",
    "# print the original price and the result of each transformation to observe the changes in the data type\n",
    "print(price)\n",
    "print(new_price)\n",
    "print(price_tag)"
   ]
  },
  {
   "cell_type": "code",
   "execution_count": 18,
   "metadata": {},
   "outputs": [
    {
     "name": "stdout",
     "output_type": "stream",
     "text": [
      "99.9999\n",
      "100.0\n"
     ]
    }
   ],
   "source": [
    "# imagine you are a software engineer at a finance company and you are currently working on a feature for a currency conversion app. This app handles lots of floating point numbers which represent amounts of money. The app should display these amounts rounded to two decimal places for better readability. Start by creating a float variable amount_in_usd\n",
    "amount_in_usd = 99.9999\n",
    "\n",
    "# round the amount to two decimal places and store it in a new variable display_amount\n",
    "display_amount = round(amount_in_usd, 2)\n",
    "\n",
    "# to verify your work, you decide to print the original amount_in_usd and the rounded display_amount to the console\n",
    "print(amount_in_usd)\n",
    "print(display_amount)"
   ]
  }
 ],
 "metadata": {
  "kernelspec": {
   "display_name": "Python 3",
   "language": "python",
   "name": "python3"
  },
  "language_info": {
   "codemirror_mode": {
    "name": "ipython",
    "version": 3
   },
   "file_extension": ".py",
   "mimetype": "text/x-python",
   "name": "python",
   "nbconvert_exporter": "python",
   "pygments_lexer": "ipython3",
   "version": "3.12.8"
  }
 },
 "nbformat": 4,
 "nbformat_minor": 2
}
