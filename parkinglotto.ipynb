{
 "cells": [
  {
   "cell_type": "markdown",
   "metadata": {},
   "source": [
    "# Bitta Parking\n",
    "Il Bitta Parking è un parcheggio a 5 livelli con numero variabile di posti, riservato esclusivamente agli Alfisti"
   ]
  },
  {
   "cell_type": "code",
   "execution_count": 24,
   "metadata": {},
   "outputs": [],
   "source": [
    "# per importare la \"cosa\" che permette di leggere la data e l'ora a python\n",
    "\n",
    "from datetime import datetime"
   ]
  },
  {
   "cell_type": "code",
   "execution_count": 15,
   "metadata": {},
   "outputs": [],
   "source": [
    "parking = {\"level1\": {\"total_parking_spaces\": 10,\n",
    "                      \"taken_parking_spaces\": 5},\n",
    "            \"level2\": {\"total_parking_spaces\": 20,\n",
    "                      \"taken_parking_spaces\": 7},\n",
    "            \"level3\": {\"total_parking_spaces\": 39,\n",
    "                      \"taken_parking_spaces\": 38},\n",
    "            \"level4\": {\"total_parking_spaces\": 50,\n",
    "                      \"taken_parking_spaces\": 50},\n",
    "            \"level5\": {\"total_parking_spaces\": 5,\n",
    "                      \"taken_parking_spaces\": 0}\n",
    "            }"
   ]
  },
  {
   "cell_type": "code",
   "execution_count": 31,
   "metadata": {},
   "outputs": [],
   "source": [
    "car = {\"AX555LM\": {\"entry\": datetime.now(), \n",
    "                   \"level\": \"level1\"},\n",
    "        \"CJ687LI\": {\"entry\": datetime.now(), \n",
    "                   \"level\": \"level3\"}\n",
    "        }\n"
   ]
  },
  {
   "cell_type": "markdown",
   "metadata": {},
   "source": [
    "## Requisiti:\n",
    "- occupiamo prima i piani inferiori;\n",
    "- l'ultimo piano è riservato alla famiglia Bitta;\n",
    "- i clienti pagano in base alla permanenza una quota proporzionata(€50/h);\n",
    "- sono accettati esclusivamente possessori di Alfa Romeo e Camper."
   ]
  },
  {
   "cell_type": "code",
   "execution_count": 17,
   "metadata": {},
   "outputs": [],
   "source": [
    "# check if the vehicle is either an Alfa Romeo or a Camper \n",
    "\n",
    "def check_vehicle():\n",
    "    model = input(\"Is this vehicle an Alfa Romeo or a Camper?  [Y/N]\").lower()\n",
    "    if model == \"y\":\n",
    "        return True\n",
    "    elif model == \"n\":\n",
    "        return False\n",
    "    else:\n",
    "        check_vehicle() #in questo else, se la risposta non è né sì né n c'è una funzione ricorsiva, quinsi si ripropone la domanda fino a che la risposta non è o y o n\n",
    "        "
   ]
  },
  {
   "cell_type": "code",
   "execution_count": 18,
   "metadata": {},
   "outputs": [],
   "source": [
    "# check if the driver is a member of the Bitta Family\n",
    "\n",
    "def is_Bitta():\n",
    "    member = input(\"Are you a Bitta? [Y/N]\").lower()\n",
    "    if member == \"y\":\n",
    "        return True\n",
    "    elif member == \"n\":\n",
    "        return False \n",
    "    else:\n",
    "        is_Bitta()"
   ]
  },
  {
   "cell_type": "code",
   "execution_count": 19,
   "metadata": {},
   "outputs": [],
   "source": [
    "def is_standard_spot_avaialble():\n",
    "    for level, level_info in parking.items():\n",
    "        if level == \"level5\":\n",
    "            break\n",
    "        total_s_parking_spaces = level_info[\"total_parking_spaces\"]\n",
    "        taken_s_parking_spaces = level_info[\"taken_parking_spaces\"]\n",
    "        Sspot_available = (total_s_parking_spaces - taken_s_parking_spaces) > 0\n",
    "\n",
    "        if Sspot_available:\n",
    "            return Sspot_available, level\n",
    "        \n",
    "    return Sspot_available, level # l'ultimo check che va a  fare se non ci sono posti disponibili in nessun livello, esce dal ciclo e ritorna false perché il quinto non viene considerato\n"
   ]
  },
  {
   "cell_type": "code",
   "execution_count": 20,
   "metadata": {},
   "outputs": [],
   "source": [
    "# check if there's any avaialble parking space for the Bittas\n",
    "\n",
    "def is_Bitta_spot_available():\n",
    "    total_B_parking_spaces = parking[\"level5\"][\"total_parking_spaces\"]\n",
    "    taken_B_parking_spaces = parking[\"level5\"][\"taken_parking_spaces\"]\n",
    "    Bspot_available = (total_B_parking_spaces - taken_B_parking_spaces) > 0 \n",
    "    return Bspot_available\n"
   ]
  },
  {
   "cell_type": "code",
   "execution_count": 33,
   "metadata": {},
   "outputs": [],
   "source": [
    "def add_taken_spot(level):\n",
    "    parking[level][\"taken_parking_spaces\"] += 1\n",
    "    "
   ]
  },
  {
   "cell_type": "code",
   "execution_count": 35,
   "metadata": {},
   "outputs": [],
   "source": [
    "def add_car(level):\n",
    "    plate = input(\"Insert your license plate: \").upper()\n",
    "    car[plate] = {} #aggiungiamo la targa all'auto che sta entrando nel parcheggio\n",
    "    car[plate][\"entry\"] = datetime.now() # aggiungiamo l'orario di accesso della data macchina\n",
    "    car[plate][\"level\"] = level # aggiungiamo il livello in cui l'auto deve andare\n",
    "    add_taken_spot(level) # va ad aggiungere un posto preso\n",
    "    "
   ]
  },
  {
   "cell_type": "code",
   "execution_count": 36,
   "metadata": {},
   "outputs": [],
   "source": [
    "def remove_taken_spot(level):\n",
    "    parking[level][\"taken_parking_spaces\"] -= 1\n",
    "    "
   ]
  },
  {
   "cell_type": "code",
   "execution_count": 38,
   "metadata": {},
   "outputs": [],
   "source": [
    "def remove_car(plate):\n",
    "    plate_dict = car[plate] # seleziona le info sulle targhe\n",
    "    entry_time = plate_dict[\"entry\"] # prende l'orario di entrate\n",
    "    level = plate_dict[\"level\"] # prende il livello dove l'auto si trova \n",
    "    remove_taken_spot(level)"
   ]
  },
  {
   "cell_type": "markdown",
   "metadata": {},
   "source": [
    "# LE COSE CHE CI MANCANO SONO:\n",
    "- calcolare il prezzo da pagare\n",
    "- rimuovere l'auto dal dizionario \n",
    "- farlo diventare qualcosa di eseguibile"
   ]
  },
  {
   "cell_type": "markdown",
   "metadata": {},
   "source": []
  }
 ],
 "metadata": {
  "kernelspec": {
   "display_name": "Python 3",
   "language": "python",
   "name": "python3"
  },
  "language_info": {
   "codemirror_mode": {
    "name": "ipython",
    "version": 3
   },
   "file_extension": ".py",
   "mimetype": "text/x-python",
   "name": "python",
   "nbconvert_exporter": "python",
   "pygments_lexer": "ipython3",
   "version": "3.12.8"
  }
 },
 "nbformat": 4,
 "nbformat_minor": 2
}
