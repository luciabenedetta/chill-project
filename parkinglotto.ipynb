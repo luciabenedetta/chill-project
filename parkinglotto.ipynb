{
 "cells": [
  {
   "cell_type": "markdown",
   "metadata": {},
   "source": [
    "# Bitta Parking\n",
    "Il Bitta Parking è un parcheggio a 5 livelli con numero variabile di posti, riservato esclusivamente agli Alfisti"
   ]
  },
  {
   "cell_type": "code",
   "execution_count": 67,
   "metadata": {},
   "outputs": [],
   "source": [
    "# per importare la \"cosa\" che permette di leggere la data e l'ora a python\n",
    "\n",
    "from datetime import datetime"
   ]
  },
  {
   "cell_type": "code",
   "execution_count": 68,
   "metadata": {},
   "outputs": [],
   "source": [
    "parking = {\"level1\": {\"total_parking_spaces\": 10,\n",
    "                      \"taken_parking_spaces\": 5},\n",
    "            \"level2\": {\"total_parking_spaces\": 20,\n",
    "                      \"taken_parking_spaces\": 7},\n",
    "            \"level3\": {\"total_parking_spaces\": 39,\n",
    "                      \"taken_parking_spaces\": 38},\n",
    "            \"level4\": {\"total_parking_spaces\": 50,\n",
    "                      \"taken_parking_spaces\": 50},\n",
    "            \"level5\": {\"total_parking_spaces\": 5,\n",
    "                      \"taken_parking_spaces\": 0}\n",
    "            }"
   ]
  },
  {
   "cell_type": "code",
   "execution_count": 69,
   "metadata": {},
   "outputs": [],
   "source": [
    "car = {\"AX555LM\": {\"entry\": datetime.now(), \n",
    "                   \"level\": \"level1\"},\n",
    "        \"CJ687LI\": {\"entry\": datetime.now(), \n",
    "                   \"level\": \"level3\"}\n",
    "        }\n"
   ]
  },
  {
   "cell_type": "markdown",
   "metadata": {},
   "source": [
    "## Requisiti:\n",
    "- occupiamo prima i piani inferiori;\n",
    "- l'ultimo piano è riservato alla famiglia Bitta;\n",
    "- i clienti pagano in base alla permanenza una quota proporzionata(€50/h);\n",
    "- sono accettati esclusivamente possessori di Alfa Romeo e Camper."
   ]
  },
  {
   "cell_type": "code",
   "execution_count": 70,
   "metadata": {},
   "outputs": [],
   "source": [
    "# check if the vehicle is either an Alfa Romeo or a Camper \n",
    "\n",
    "def check_vehicle():\n",
    "    model = input(\"Is this vehicle an Alfa Romeo or a Camper?  [Y/N]\").lower()\n",
    "    if model == \"y\":\n",
    "        return True\n",
    "    elif model == \"n\":\n",
    "        return False\n",
    "    else:\n",
    "        check_vehicle() #in questo else, se la risposta non è né sì né n c'è una funzione ricorsiva, quinsi si ripropone la domanda fino a che la risposta non è o y o n\n",
    "        "
   ]
  },
  {
   "cell_type": "code",
   "execution_count": 71,
   "metadata": {},
   "outputs": [],
   "source": [
    "# check if the driver is a member of the Bitta Family\n",
    "\n",
    "def is_Bitta_member():\n",
    "    member = input(\"Are you a Bitta? [Y/N]\").lower()\n",
    "    if member == \"y\":\n",
    "        return True\n",
    "    elif member == \"n\":\n",
    "        return False \n",
    "    else:\n",
    "        is_Bitta_member()"
   ]
  },
  {
   "cell_type": "code",
   "execution_count": 72,
   "metadata": {},
   "outputs": [],
   "source": [
    "def is_standard_spot_avaialble():\n",
    "    for level, level_info in parking.items():\n",
    "        if level == \"level5\":\n",
    "            break\n",
    "        total_s_parking_spaces = level_info[\"total_parking_spaces\"]\n",
    "        taken_s_parking_spaces = level_info[\"taken_parking_spaces\"]\n",
    "        Sspot_available = (total_s_parking_spaces - taken_s_parking_spaces) > 0\n",
    "\n",
    "        if Sspot_available:\n",
    "            return Sspot_available, level\n",
    "        \n",
    "    return Sspot_available, level # l'ultimo check che va a  fare se non ci sono posti disponibili in nessun livello, esce dal ciclo e ritorna false perché il quinto non viene considerato\n"
   ]
  },
  {
   "cell_type": "code",
   "execution_count": 73,
   "metadata": {},
   "outputs": [],
   "source": [
    "# check if there's any avaialble parking space for the Bittas\n",
    "\n",
    "def is_Bitta_spot_available():\n",
    "    total_B_parking_spaces = parking[\"level5\"][\"total_parking_spaces\"]\n",
    "    taken_B_parking_spaces = parking[\"level5\"][\"taken_parking_spaces\"]\n",
    "    Bspot_available = (total_B_parking_spaces - taken_B_parking_spaces) > 0 \n",
    "    return Bspot_available\n"
   ]
  },
  {
   "cell_type": "code",
   "execution_count": 74,
   "metadata": {},
   "outputs": [],
   "source": [
    "# questa funzione ha il ruolo di aggiungere +1 nei posti presi nel dict parking usando la \n",
    "# chiave level (quindi nel livello specifico), concatenandosi con le funzioni di prima\n",
    "\n",
    "def add_taken_spot(level):\n",
    "    parking[level][\"taken_parking_spaces\"] += 1\n",
    "    "
   ]
  },
  {
   "cell_type": "code",
   "execution_count": 75,
   "metadata": {},
   "outputs": [],
   "source": [
    "def add_car_to(level):\n",
    "    plate = input(\"Insert your license plate: \").upper()\n",
    "    car[plate] = {} #aggiungiamo la targa all'auto che sta entrando nel parcheggio\n",
    "    car[plate][\"entry\"] = datetime.now() # aggiungiamo l'orario di accesso della data macchina\n",
    "    car[plate][\"level\"] = level # aggiungiamo il livello in cui l'auto deve andare\n",
    "    add_taken_spot(level) # va ad aggiungere un posto preso\n",
    "    "
   ]
  },
  {
   "cell_type": "code",
   "execution_count": 76,
   "metadata": {},
   "outputs": [],
   "source": [
    "def add_car(level):\n",
    "    add_car_to(level)\n",
    "    add_taken_spot(level)"
   ]
  },
  {
   "cell_type": "code",
   "execution_count": 77,
   "metadata": {},
   "outputs": [],
   "source": [
    "def get_car_info(plate):\n",
    "    plate_dict = car[plate] # seleziona le info sulle targhe\n",
    "    entry_time = plate_dict[\"entry\"] # prende l'orario di entrate\n",
    "    level = plate_dict[\"level\"] # prende il livello dove l'auto si trova \n",
    "    return level, entry_time"
   ]
  },
  {
   "cell_type": "code",
   "execution_count": 78,
   "metadata": {},
   "outputs": [],
   "source": [
    "# questa funzione, contestualmente alla funzione add_taken_spot, ha il ruolo di togliere -1 auto al \n",
    "# livello specifico, concatenandosi alle funzioni precedenti\n",
    "\n",
    "def remove_taken_spot(level):\n",
    "    parking[level][\"taken_parking_spaces\"] -= 1\n",
    "    "
   ]
  },
  {
   "cell_type": "code",
   "execution_count": 79,
   "metadata": {},
   "outputs": [],
   "source": [
    "# to remove the car (and its plate) from the dictionary\n",
    "\n",
    "def remove_plate(plate):\n",
    "    del car[plate]\n",
    "    "
   ]
  },
  {
   "cell_type": "code",
   "execution_count": 80,
   "metadata": {},
   "outputs": [],
   "source": [
    "def remove_car(plate, level):\n",
    "    remove_plate(plate)\n",
    "    remove_taken_spot(level)"
   ]
  },
  {
   "cell_type": "code",
   "execution_count": 81,
   "metadata": {},
   "outputs": [],
   "source": [
    "# per calcolare le ore totali di permanenza nel parking\n",
    "\n",
    "def calculate_hours(entry_time):\n",
    "    diff = datetime.now() - entry_time\n",
    "    hours = diff.total_seconds() // 3600\n",
    "    return hours + 1\n"
   ]
  },
  {
   "cell_type": "code",
   "execution_count": 82,
   "metadata": {},
   "outputs": [],
   "source": [
    "def calculate_fare(entry_time):\n",
    "    hours = calculate_hours(entry_time)\n",
    "    hour_fare = 50\n",
    "    fare = hour_fare * hours\n",
    "    return fare"
   ]
  },
  {
   "cell_type": "code",
   "execution_count": 83,
   "metadata": {},
   "outputs": [],
   "source": [
    "def car_in():\n",
    "    is_Alfa = check_vehicle()\n",
    "    if not is_Alfa:\n",
    "        print(\"You shall not pass!\")\n",
    "        return \n",
    "    is_Bitta = is_Bitta_member()\n",
    "\n",
    "    # se è un Bitta\n",
    "    if is_Bitta:\n",
    "        spot_available = is_Bitta_spot_available()\n",
    "        if not spot_available:\n",
    "            print(\"There are too many Bittas on the 5th level, we're sorry there's no spot left.\")\n",
    "            return # qui se non c'è posto non si fa nulla\n",
    "        else:\n",
    "            selected_level = \"level5\"\n",
    "    \n",
    "    # se non è un Bitta\n",
    "    else:\n",
    "        spot_available, level = is_standard_spot_avaialble()\n",
    "        if not spot_available:\n",
    "            print(\"We are sorry there are no spots available in the parking.\")\n",
    "            return\n",
    "        else: \n",
    "            selected_level = level \n",
    "\n",
    "    # se c'è posto per i non-Bitta aggiungiamo la targa\n",
    "    add_car(selected_level)\n"
   ]
  },
  {
   "cell_type": "code",
   "execution_count": 84,
   "metadata": {},
   "outputs": [],
   "source": [
    "car_in()"
   ]
  },
  {
   "cell_type": "code",
   "execution_count": 85,
   "metadata": {},
   "outputs": [
    {
     "data": {
      "text/plain": [
       "{'AX555LM': {'entry': datetime.datetime(2025, 1, 30, 12, 57, 29, 312926),\n",
       "  'level': 'level1'},\n",
       " 'CJ687LI': {'entry': datetime.datetime(2025, 1, 30, 12, 57, 29, 312926),\n",
       "  'level': 'level3'},\n",
       " 'DF538UH': {'entry': datetime.datetime(2025, 1, 30, 12, 57, 41, 406915),\n",
       "  'level': 'level1'}}"
      ]
     },
     "execution_count": 85,
     "metadata": {},
     "output_type": "execute_result"
    }
   ],
   "source": [
    "car"
   ]
  },
  {
   "cell_type": "code",
   "execution_count": 90,
   "metadata": {},
   "outputs": [],
   "source": [
    "def car_out():\n",
    "\n",
    "    # check della targa nel parcheggio\n",
    "    plate = input(\"Insert your license plate please:\").upper()\n",
    "    if not plate in car:\n",
    "        print(\"There's no car with this license plate in the parking!\")\n",
    "        return\n",
    "    \n",
    "    # ora andiamo a \"raggruppare\" tutte le funzioni che prima abbiamo definito per rimuovere l'auto, di modo da\n",
    "    # rimuoverla dal dict e calcolare le ore e la tariffa che deve pagare\n",
    "    level, entry_time = get_car_info(plate)\n",
    "    remove_car(plate, level)\n",
    "\n",
    "    fare = calculate_fare(entry_time)\n",
    "    print(f\"You have to pay €{fare}. Thanks!\")\n"
   ]
  },
  {
   "cell_type": "code",
   "execution_count": 92,
   "metadata": {},
   "outputs": [
    {
     "name": "stdout",
     "output_type": "stream",
     "text": [
      "You have to pay €50.0. Thanks!\n"
     ]
    }
   ],
   "source": [
    "car_out()"
   ]
  }
 ],
 "metadata": {
  "kernelspec": {
   "display_name": "Python 3",
   "language": "python",
   "name": "python3"
  },
  "language_info": {
   "codemirror_mode": {
    "name": "ipython",
    "version": 3
   },
   "file_extension": ".py",
   "mimetype": "text/x-python",
   "name": "python",
   "nbconvert_exporter": "python",
   "pygments_lexer": "ipython3",
   "version": "3.12.8"
  }
 },
 "nbformat": 4,
 "nbformat_minor": 2
}
