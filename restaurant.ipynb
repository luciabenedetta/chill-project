{
 "cells": [
  {
   "cell_type": "markdown",
   "metadata": {},
   "source": [
    "## Codice fatto durante la lezione di lunedì 27/01 "
   ]
  },
  {
   "cell_type": "markdown",
   "metadata": {},
   "source": [
    "- crea un piccolo database del ristorante in cui ci sono 10 tavoli, con posti a sedere diversi \n",
    "- un programma attraverso il quale si possono prenotare i tavoli "
   ]
  },
  {
   "cell_type": "code",
   "execution_count": 1,
   "metadata": {},
   "outputs": [],
   "source": [
    "# importiamo la libreria che ci permette di leggere gli orari su python\n",
    "from datetime import datetime, timedelta"
   ]
  },
  {
   "cell_type": "code",
   "execution_count": 2,
   "metadata": {},
   "outputs": [],
   "source": [
    "# creazione del dizionario\n",
    "\n",
    "restaurant = {\"table1\": {\"seats\": 6, \"reserved\": False, \"reservation_time\": None},\n",
    "              \"table2\": {\"seats\": 2, \"reserved\": False, \"reservation_time\": None},\n",
    "              \"table3\": {\"seats\": 6, \"reserved\": False, \"reservation_time\": None},\n",
    "              \"table4\": {\"seats\": 4, \"reserved\": False, \"reservation_time\": None},\n",
    "              \"table5\": {\"seats\": 6, \"reserved\": False, \"reservation_time\": None},\n",
    "              \"table6\": {\"seats\": 8, \"reserved\": False, \"reservation_time\": None},\n",
    "              \"table7\": {\"seats\": 6, \"reserved\": False, \"reservation_time\": None},\n",
    "              \"table8\": {\"seats\": 12, \"reserved\": False, \"reservation_time\": None}\n",
    "              }"
   ]
  },
  {
   "cell_type": "code",
   "execution_count": 10,
   "metadata": {},
   "outputs": [],
   "source": [
    "def get_possible_table(seats_required):\n",
    "    \"\"\"\n",
    "    This function verifies if the guest request, based on the number of people, is compatible with any avaialble table, and returns a list of them\n",
    "\n",
    "    Parameters:\n",
    "    --------\n",
    "    seats_required : int\n",
    "        identifies the number of seats requested by the guest\n",
    "    \n",
    "    Returns : \n",
    "    --------\n",
    "    list\n",
    "        list of possible tables\n",
    "    \n",
    "    Examples : \n",
    "    --------\n",
    "    >>> get_possible_table(5)\n",
    "    [\"table1\",\"table5\"]\n",
    "    >>> get_possible_table(7)\n",
    "    []\n",
    "    \"\"\"\n",
    "    \n",
    "    possible_tables = []\n",
    "    for table, value in restaurant.items():\n",
    "        seats_for_table = value[\"seats\"]\n",
    "        if seats_required <= seats_for_table < seats_required + 2:\n",
    "            possible_tables.insert(0, table)\n",
    "        elif seats_required + 2 <= seats_for_table <= seats_required + 3:\n",
    "            possible_tables.append(table)\n",
    "    return possible_tables"
   ]
  },
  {
   "cell_type": "code",
   "execution_count": 11,
   "metadata": {},
   "outputs": [],
   "source": [
    "# i tavoli possono essere prenotati con una differenza di orario di 2 ore \n",
    "\n",
    "def get_available_time(table, time_request):\n",
    "    \"\"\"\n",
    "    This function verifies if a reservation time is compatible for a specified table\n",
    "    \n",
    "    Parameters:\n",
    "    --------\n",
    "    table : string\n",
    "        identifies the table id.\n",
    "    time_request: datetime object \n",
    "        identifies the guests time request for reservation.\n",
    "\n",
    "    Returns :\n",
    "    --------\n",
    "    string or False \n",
    "        string (table id): if the table is available for that time \n",
    "        False: if the table is not available\n",
    "\n",
    "    Examples :\n",
    "    --------\n",
    "    >>> get_available_time(string, datetime)\n",
    "    \"table3\"\n",
    "    >>> get_available_time(string, datetime)\n",
    "    False\n",
    "    \"\"\"\n",
    "    reserved_time = restaurant[table][\"reservation_time\"]\n",
    "\n",
    "    # no reservation\n",
    "    if reserved_time == None:\n",
    "        return table\n",
    "    \n",
    "    \n",
    "    # before or after the extreme\n",
    "    if reservation_time < reserved_time[0] - timedelta(hours=2):\n",
    "        return table\n",
    "    elif reservation_time >= reserved_time[-1] + timedelta(hours=2):\n",
    "        return table \n",
    "    \n",
    "    \n",
    "    # in the middle \n",
    "    if len(reserved_time) >= 2:\n",
    "        for i, reservation_time in enumerate(reserved_time):\n",
    "            if i != len(reserved_time):  # escludiamo l'ultima prenotazione perché non ha un orario successivo\n",
    "                following_time = reserved_time [i+1]\n",
    "                previous_time = reserved_time[i]\n",
    "                if previous_time - timedelta(hours=2) <= reservation_time <= following_time + timedelta(hours=2):\n",
    "                    return table\n",
    "            \n",
    "    \n",
    "    print(f\"{table} is not available\")\n",
    "    return False"
   ]
  },
  {
   "cell_type": "code",
   "execution_count": 5,
   "metadata": {},
   "outputs": [],
   "source": [
    "def booking_confirmation(table, time):\n",
    "    if restaurant[table][\"reservation_time\"]:\n",
    "        restaurant[table][\"reservation_time\"] = restaurant[table][\"reservation_time\"].append(time).sort()\n",
    "    else:\n",
    "        restaurant[table][\"reservation_time\"] = [time]"
   ]
  },
  {
   "cell_type": "code",
   "execution_count": 6,
   "metadata": {},
   "outputs": [],
   "source": [
    "# check reservation\n",
    "\n",
    "def get_reservation(time, people):\n",
    "    time = datetime.strptime(time, \"%H:%M\").time()\n",
    "\n",
    "    compatible_tables = get_possible_table(people)\n",
    "\n",
    "    if not compatible_tables:\n",
    "        print(\"We do not move tables.\")\n",
    "        return\n",
    "    \n",
    "    for table in compatible_tables:\n",
    "        available_table = get_available_time(table, time)\n",
    "        if available_table: \n",
    "            print(\"Table found, proceed with your reservation!\")\n",
    "            booking = input(\"Do you want to confirm the reservation? [Y/N]\").lower == \"y\"\n",
    "            if booking:\n",
    "                booking_confirmation(table, time)\n",
    "                return\n",
    "    \n",
    "    print(\"Thank you for your confirmation, see you there!\")"
   ]
  }
 ],
 "metadata": {
  "kernelspec": {
   "display_name": "Python 3",
   "language": "python",
   "name": "python3"
  },
  "language_info": {
   "codemirror_mode": {
    "name": "ipython",
    "version": 3
   },
   "file_extension": ".py",
   "mimetype": "text/x-python",
   "name": "python",
   "nbconvert_exporter": "python",
   "pygments_lexer": "ipython3",
   "version": "3.12.8"
  }
 },
 "nbformat": 4,
 "nbformat_minor": 2
}
