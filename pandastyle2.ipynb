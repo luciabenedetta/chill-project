{
 "cells": [
  {
   "cell_type": "markdown",
   "metadata": {},
   "source": [
    "## Pandas Style 2"
   ]
  },
  {
   "cell_type": "code",
   "execution_count": null,
   "metadata": {},
   "outputs": [],
   "source": [
    "import pandas as pd\n",
    "import numpy as np\n",
    "\n",
    "# Creazione del dataframe con 10 righe e 4 colonne con valori casuali\n",
    "data = np.random.randint(1, 100, size=(10, 4))  # Numeri casuali tra 1 e 100\n",
    "df = pd.DataFrame(data, columns=['A', 'B', 'C', 'D'])\n",
    "\n",
    "# Stile per evidenziare le colonne con colori diversi\n",
    "def highlight_columns(x):\n",
    "    color = {\n",
    "        'A': 'background-color: yellow',\n",
    "        'B': 'background-color: lightgreen',\n",
    "        'C': 'background-color: lightblue',\n",
    "        'D': 'background-color: lightcoral'\n",
    "    }\n",
    "    return [color.get(col, '') for col in x.index]  # Restituire il colore per ogni colonna\n",
    "\n",
    "# Applicare lo stile al dataframe\n",
    "styled_df = df.style.apply(highlight_columns, axis=0)  # axis=0 per colonne\n",
    "\n",
    "# Visualizzare direttamente il dataframe stilizzato\n",
    "styled_df"
   ]
  }
 ],
 "metadata": {
  "kernelspec": {
   "display_name": "Python 3",
   "language": "python",
   "name": "python3"
  },
  "language_info": {
   "codemirror_mode": {
    "name": "ipython",
    "version": 3
   },
   "file_extension": ".py",
   "mimetype": "text/x-python",
   "name": "python",
   "nbconvert_exporter": "python",
   "pygments_lexer": "ipython3",
   "version": "3.12.8"
  }
 },
 "nbformat": 4,
 "nbformat_minor": 2
}
