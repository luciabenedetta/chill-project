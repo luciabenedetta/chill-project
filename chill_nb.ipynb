{
 "cells": [
  {
   "cell_type": "code",
   "execution_count": 1,
   "metadata": {},
   "outputs": [
    {
     "name": "stdout",
     "output_type": "stream",
     "text": [
      "hello world!\n"
     ]
    }
   ],
   "source": [
    "print('hello world!')"
   ]
  },
  {
   "cell_type": "code",
   "execution_count": 10,
   "metadata": {},
   "outputs": [],
   "source": [
    "def word(sentence):\n",
    "    word = len(sentence.split())\n",
    "    if word > 6:\n",
    "            print(\"This is a long string\")\n",
    "    else: \n",
    "        print(\"This is a short string\")"
   ]
  },
  {
   "cell_type": "code",
   "execution_count": 11,
   "metadata": {},
   "outputs": [
    {
     "name": "stdout",
     "output_type": "stream",
     "text": [
      "This is a long string\n"
     ]
    }
   ],
   "source": [
    "word(\"Ciao io sono Lucia e sono seduta su una sedia\")"
   ]
  },
  {
   "cell_type": "code",
   "execution_count": 19,
   "metadata": {},
   "outputs": [],
   "source": [
    "#  crea una funzione che vede se in una lista ci sono duplicati e li stampi\n",
    "\n",
    "def duplicates(list):\n",
    "    duplicates_list = []\n",
    "    seen_list = []\n",
    "    for e in list:\n",
    "        if e not in seen_list:\n",
    "            seen_list.append(e)\n",
    "        else:\n",
    "            duplicates_list.append(e)\n",
    "    \n",
    "    return set(duplicates_list) "
   ]
  },
  {
   "cell_type": "code",
   "execution_count": 21,
   "metadata": {},
   "outputs": [
    {
     "name": "stdout",
     "output_type": "stream",
     "text": [
      "{1, 2}\n"
     ]
    }
   ],
   "source": [
    "dup = duplicates([1, 2, 1, 3, 2, 1])\n",
    "\n",
    "print(dup)"
   ]
  },
  {
   "cell_type": "code",
   "execution_count": 22,
   "metadata": {},
   "outputs": [],
   "source": [
    "# una funzione che verifichi una password sapendo che questa deve contenere almeno 3 numeri e \n",
    "# e deve essere lunga almeno 10 caratteri altrimenti chiede di reinserire password\n",
    "\n",
    "def password():\n",
    "    string = input(\"Insert your password: \")\n",
    "    pass_number = 0\n",
    "    for c in string:\n",
    "        if c.isdigit():\n",
    "            pass_number +=1 \n",
    "    \n",
    "    if len(string) > 10 and pass_number >= 3:\n",
    "        print(\"Your password is elegible.\")\n",
    "    else:\n",
    "        password()"
   ]
  },
  {
   "cell_type": "code",
   "execution_count": 23,
   "metadata": {},
   "outputs": [
    {
     "name": "stdout",
     "output_type": "stream",
     "text": [
      "Your password is elegible.\n"
     ]
    }
   ],
   "source": [
    "password()"
   ]
  },
  {
   "cell_type": "code",
   "execution_count": 1,
   "metadata": {},
   "outputs": [],
   "source": [
    "# Scrivi una funzione che prende una stringa in input e restituisce un dizionario con il conteggio di ogni vocale\n",
    "# (a, e, i, o, u) presente nella stringa.\n",
    "\n",
    "def count_vowels(string):\n",
    "    vowel = {\"a\": 0,\n",
    "             \"e\": 0,\n",
    "             \"i\": 0,\n",
    "             \"o\": 0,\n",
    "             \"u\": 0\n",
    "    }\n",
    "\n",
    "    string = string.lower()\n",
    "\n",
    "    for c in string:\n",
    "        if c in vowel:\n",
    "            vowel[c] += 1\n",
    "\n",
    "    return vowel # il return deve essere fuori dal ciclo for\n",
    "\n"
   ]
  },
  {
   "cell_type": "code",
   "execution_count": 29,
   "metadata": {},
   "outputs": [
    {
     "name": "stdout",
     "output_type": "stream",
     "text": [
      "{'a': 4, 'e': 2, 'i': 3, 'o': 5, 'u': 2}\n"
     ]
    }
   ],
   "source": [
    "sentence = count_vowels(\"Ciao sono Lucia e sono Una sirena.\")\n",
    "print(sentence)\n"
   ]
  },
  {
   "cell_type": "code",
   "execution_count": 30,
   "metadata": {},
   "outputs": [],
   "source": [
    "# scrivi una funzione che prende una lista di parole e restituisce la parola più lunga\n",
    "\n",
    "\n",
    "def longest_word(list):\n",
    "    long_word = list[0]\n",
    "    for word in list:\n",
    "        if len(word) > len(long_word):\n",
    "            long_word = word\n",
    "    \n",
    "    return long_word"
   ]
  },
  {
   "cell_type": "code",
   "execution_count": 31,
   "metadata": {},
   "outputs": [
    {
     "name": "stdout",
     "output_type": "stream",
     "text": [
      "encefalogramma\n"
     ]
    }
   ],
   "source": [
    "words = [\"sigaretta\", \"trento\", \"encefalogramma\", \"smartphone\"]\n",
    "print(longest_word(words))"
   ]
  },
  {
   "cell_type": "code",
   "execution_count": 32,
   "metadata": {},
   "outputs": [],
   "source": [
    "# Scrivere una funzione che accetta un dizionario e\n",
    "# restituisce un nuovo dizionario con chiavi e valori scambiati\n",
    "\n",
    "def invert_dictionary(dictionary):\n",
    "    inverted_dictionary = {}\n",
    "    for key, value in dictionary.items():\n",
    "        inverted_dictionary[value] = key\n",
    "    \n",
    "    return inverted_dictionary"
   ]
  },
  {
   "cell_type": "code",
   "execution_count": 33,
   "metadata": {},
   "outputs": [
    {
     "name": "stdout",
     "output_type": "stream",
     "text": [
      "{1: 'a', 2: 'b', 3: 'c', 4: 'd'}\n"
     ]
    }
   ],
   "source": [
    "dict =  {\"a\": 1,\n",
    "         \"b\": 2,\n",
    "         \"c\": 3,\n",
    "         \"d\": 4}\n",
    "\n",
    "print(invert_dictionary(dict))"
   ]
  },
  {
   "cell_type": "code",
   "execution_count": 8,
   "metadata": {},
   "outputs": [],
   "source": [
    "# una funzione che prende una stringa di testo e restituisce la parola che compare più volte\n",
    "\n",
    "def parola_frequente(string):\n",
    "    lista = string.split() \n",
    "    frequenza = {}\n",
    "\n",
    "    for parola in lista:\n",
    "        if parola in frequenza:\n",
    "            frequenza[parola] += 1\n",
    "        else: \n",
    "            frequenza[parola] = 1 \n",
    "\n",
    "    return frequenza "
   ]
  },
  {
   "cell_type": "code",
   "execution_count": 9,
   "metadata": {},
   "outputs": [
    {
     "name": "stdout",
     "output_type": "stream",
     "text": [
      "{'ciao': 2, 'sono': 1, 'lucia': 1, 'come': 2, 'stai': 1, 'ti': 1, 'senti': 2, 'a': 1, 'me': 1}\n"
     ]
    }
   ],
   "source": [
    "print(parola_frequente(\"ciao sono lucia ciao come stai come ti senti senti a me\"))"
   ]
  },
  {
   "cell_type": "code",
   "execution_count": 2,
   "metadata": {},
   "outputs": [],
   "source": [
    "# funzione che restituisce il primo numero che non si ripete in una stringa fatta tutta di numeri\n",
    "\n",
    "def count_numbers(numbers):\n",
    "    count = {}\n",
    "\n",
    "    for n in numbers:\n",
    "        if n in count:\n",
    "            count[n] += 1\n",
    "        else:\n",
    "            count[n] = 1\n",
    "        \n",
    "    for n in numbers:\n",
    "        if count[n] == 1:\n",
    "            return n\n",
    "        "
   ]
  },
  {
   "cell_type": "code",
   "execution_count": 3,
   "metadata": {},
   "outputs": [
    {
     "name": "stdout",
     "output_type": "stream",
     "text": [
      "7\n"
     ]
    }
   ],
   "source": [
    "print(count_numbers(\"11224455588887999666322\"))"
   ]
  }
 ],
 "metadata": {
  "kernelspec": {
   "display_name": "Python 3",
   "language": "python",
   "name": "python3"
  },
  "language_info": {
   "codemirror_mode": {
    "name": "ipython",
    "version": 3
   },
   "file_extension": ".py",
   "mimetype": "text/x-python",
   "name": "python",
   "nbconvert_exporter": "python",
   "pygments_lexer": "ipython3",
   "version": "3.12.8"
  }
 },
 "nbformat": 4,
 "nbformat_minor": 2
}
